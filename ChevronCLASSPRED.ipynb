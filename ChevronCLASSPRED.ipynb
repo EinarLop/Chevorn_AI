{
 "cells": [
  {
   "cell_type": "raw",
   "source": [
    "import pandas as pd"
   ],
   "metadata": {
    "collapsed": false,
    "pycharm": {
     "name": ""
    }
   }
  },
  {
   "cell_type": "code",
   "execution_count": 95,
   "outputs": [],
   "source": [
    "import pandas as pd\n",
    "from sklearn.utils import shuffle\n",
    "from sklearn.model_selection import GridSearchCV, train_test_split\n",
    "from sklearn.linear_model import LogisticRegression\n",
    "from sklearn.tree import DecisionTreeClassifier\n",
    "from sklearn.ensemble import RandomForestClassifier\n",
    "from sklearn.svm import SVC\n",
    "from sklearn.neighbors import KNeighborsClassifier\n",
    "from sklearn.metrics import confusion_matrix\n",
    "from sklearn.metrics import accuracy_score\n",
    "\n",
    "\n",
    "\n"
   ],
   "metadata": {
    "collapsed": false,
    "ExecuteTime": {
     "start_time": "2023-05-02T19:48:39.394917Z",
     "end_time": "2023-05-02T19:48:39.401724Z"
    }
   }
  },
  {
   "cell_type": "code",
   "execution_count": 96,
   "outputs": [],
   "source": [
    "worker_order_df = pd.read_csv('cleanworkorderoutliers.csv')\n"
   ],
   "metadata": {
    "collapsed": false,
    "ExecuteTime": {
     "start_time": "2023-05-02T19:48:39.403039Z",
     "end_time": "2023-05-02T19:48:39.724781Z"
    }
   }
  },
  {
   "cell_type": "markdown",
   "source": [
    "### Columns to encode\n",
    "1. 'AffectedProduction'\n",
    "2. ,'GrossProductionLoss',\n",
    "3. 'Duration',\n",
    "4. 'DaysFromLastFailure_int"
   ],
   "metadata": {
    "collapsed": false
   }
  },
  {
   "cell_type": "code",
   "execution_count": 97,
   "outputs": [
    {
     "name": "stdout",
     "output_type": "stream",
     "text": [
      "                         0.25   0.3    0.5    0.8     0.9    0.95    0.99  \\\n",
      "AffectedProduction        0.0   0.0    0.0    0.0     4.0    14.0    75.0   \n",
      "GrossProductionLoss       0.0   0.0    0.0    0.0     0.0     0.0   100.0   \n",
      "Duration                  1.0   1.0    1.0    2.0     7.0     7.0    93.0   \n",
      "DaysFromLastFailure_int  24.0  36.0  127.0  597.0  1171.0  1936.0  3565.0   \n",
      "\n",
      "                           0.995       0.999       0.9999        max  \\\n",
      "AffectedProduction        150.00     940.968    7000.0000  318455302   \n",
      "GrossProductionLoss       300.00  594062.484  595199.2968     595336   \n",
      "Duration                   93.00     259.484     621.6484     687389   \n",
      "DaysFromLastFailure_int  3916.42    4216.000    4328.0000       5081   \n",
      "\n",
      "                                mean  min  \n",
      "AffectedProduction        671.439087    0  \n",
      "GrossProductionLoss      1436.399883    0  \n",
      "Duration                    9.072405    1  \n",
      "DaysFromLastFailure_int   410.142711    1  \n"
     ]
    }
   ],
   "source": [
    "outliers = worker_order_df[['AffectedProduction','GrossProductionLoss','Duration', 'DaysFromLastFailure_int']].quantile([0.25,0.3 ,0.5,0.8, 0.9, 0.95, 0.99, 0.995, 0.999, 0.9999]).transpose()\n",
    "outliers['max'] = worker_order_df[['AffectedProduction','GrossProductionLoss','Duration','DaysFromLastFailure_int' ]].max()\n",
    "outliers['mean'] = worker_order_df[['AffectedProduction','GrossProductionLoss','Duration', 'DaysFromLastFailure_int']].mean()\n",
    "outliers['min'] = worker_order_df[['AffectedProduction','GrossProductionLoss','Duration', 'DaysFromLastFailure_int']].min()\n",
    "\n",
    "print(outliers)"
   ],
   "metadata": {
    "collapsed": false,
    "ExecuteTime": {
     "start_time": "2023-05-02T19:48:39.724973Z",
     "end_time": "2023-05-02T19:48:39.813605Z"
    }
   }
  },
  {
   "cell_type": "code",
   "execution_count": 98,
   "outputs": [],
   "source": [
    "clean_worker_order_df = worker_order_df\n",
    "AP_bins = [0.0,4.0, 14.0, 75.0, 150.0, 940.0, 7000.0, 318455302]\n",
    "# Right = False -> Inclusive on both sides\n",
    "clean_worker_order_df['AffectedProduction'] = pd.cut(clean_worker_order_df['AffectedProduction'], AP_bins, labels=range(len(AP_bins)-1), right=False)\n",
    "\n",
    "GPL_bins = [0.0, 100.0, 300.0, 595336 ]\n",
    "clean_worker_order_df['GrossProductionLoss'] = pd.cut(clean_worker_order_df['GrossProductionLoss'], GPL_bins, labels=range(len(GPL_bins)-1), right=False)\n",
    "\n",
    "D_bins = [1.0, 2.0, 7.0, 93.0, 259.0, 621.0, 687389]\n",
    "clean_worker_order_df['Duration'] = pd.cut(clean_worker_order_df['Duration'], D_bins, labels=range(len(D_bins)-1), right=False)\n",
    "\n",
    "DLF_bins = [0.0 ,1.0, 24.0 , 36.0  ,127.0,  597.0 , 1171.0,  1936.0, 3916.0, 5081]\n",
    "clean_worker_order_df['DaysFromLastFailure_int'] = pd.cut(clean_worker_order_df['DaysFromLastFailure_int'], DLF_bins, labels=range(len(DLF_bins)-1), right=False)\n"
   ],
   "metadata": {
    "collapsed": false,
    "ExecuteTime": {
     "start_time": "2023-05-02T19:48:39.814194Z",
     "end_time": "2023-05-02T19:48:39.902101Z"
    }
   }
  },
  {
   "cell_type": "code",
   "execution_count": 98,
   "outputs": [],
   "source": [],
   "metadata": {
    "collapsed": false,
    "ExecuteTime": {
     "start_time": "2023-05-02T19:48:39.903591Z",
     "end_time": "2023-05-02T19:48:39.905611Z"
    }
   }
  },
  {
   "cell_type": "code",
   "execution_count": 99,
   "outputs": [
    {
     "name": "stdout",
     "output_type": "stream",
     "text": [
      "SupervisorRole                0\n",
      "TradeGroup                    0\n",
      "IsAffectingProduction         0\n",
      "AffectedProduction            1\n",
      "GrossProductionLoss           1\n",
      "Duration                      1\n",
      "Safety                        0\n",
      "WOType                        0\n",
      "Reopened                      0\n",
      "StatusCode                    0\n",
      "EquipmentType                 0\n",
      "FailureCount                  0\n",
      "DayOfYear                     0\n",
      "equipment_model_id_encoded    0\n",
      "DaysFromLastFailure_int       3\n",
      "dtype: int64\n"
     ]
    }
   ],
   "source": [
    "print(clean_worker_order_df.isna().sum())"
   ],
   "metadata": {
    "collapsed": false,
    "ExecuteTime": {
     "start_time": "2023-05-02T19:48:39.906723Z",
     "end_time": "2023-05-02T19:48:39.914513Z"
    }
   }
  },
  {
   "cell_type": "code",
   "execution_count": 100,
   "outputs": [],
   "source": [
    "job_df_predict = clean_worker_order_df\n",
    "job_df_predict = shuffle(job_df_predict, random_state=0)\n",
    "job_df_predict = job_df_predict[0:10000]\n",
    "\n",
    "X_wo_D = job_df_predict.loc[:, job_df_predict.columns != \"Duration\"]\n",
    "X_wo_AP = job_df_predict.loc[:, job_df_predict.columns != \"AffectedProduction\"]\n",
    "X_wo_GPL = job_df_predict.loc[:, job_df_predict.columns != \"GrossProductionLoss\"]\n",
    "X_wo_DLF = job_df_predict.loc[:, job_df_predict.columns != \"DaysFromLastFailure_int\"]\n",
    "\n",
    "Xs = [X_wo_D, X_wo_AP, X_wo_GPL, X_wo_DLF]\n",
    "y = [\"Duration\",\"AffectedProduction\",\"GrossProductionLoss\",\"DaysFromLastFailure_int\"]\n",
    "\n",
    "X_D_train, X_D_test, y_D_train, y_D_test = train_test_split(Xs[0], job_df_predict['Duration'], test_size=0.2, random_state=42)\n",
    "X_AP_train, X_AP_test, y_AP_train, y_AP_test = train_test_split(Xs[1], job_df_predict['AffectedProduction'], test_size=0.2, random_state=42)\n",
    "X_GPL_train, X_GPL_test, y_GPL_train, y_GPL_test = train_test_split(Xs[2], job_df_predict['GrossProductionLoss'], test_size=0.2, random_state=42)\n",
    "X_DLF_train, X_DLF_test, y_DLF_train, y_DLF_test = train_test_split(Xs[3], job_df_predict['DaysFromLastFailure_int'], test_size=0.2, random_state=42)\n",
    "\n",
    "splits = [[X_D_train, X_D_test, y_D_train, y_D_test], [X_AP_train, X_AP_test, y_AP_train, y_AP_test], [X_GPL_train, X_GPL_test, y_GPL_train, y_GPL_test], [X_DLF_train, X_DLF_test, y_DLF_train, y_DLF_test]]\n",
    "\n"
   ],
   "metadata": {
    "collapsed": false,
    "ExecuteTime": {
     "start_time": "2023-05-02T19:48:39.920912Z",
     "end_time": "2023-05-02T19:48:39.988512Z"
    }
   }
  },
  {
   "cell_type": "code",
   "execution_count": 101,
   "outputs": [
    {
     "name": "stdout",
     "output_type": "stream",
     "text": [
      "Predicting:  Duration\n",
      "\n",
      "Training Logistic Regression\n",
      "Confusion Matrix for {model}:\n",
      "[[1539   12    0    0    0]\n",
      " [ 209   12    0    0    0]\n",
      " [ 203    0    0    0    0]\n",
      " [  23    0    0    0    0]\n",
      " [   2    0    0    0    0]]\n",
      "Accuracy: 0.7755\n",
      "Training Decision Tree Regressor\n"
     ]
    },
    {
     "name": "stderr",
     "output_type": "stream",
     "text": [
      "/Users/einar/.conda/envs/Chevron/lib/python3.10/site-packages/sklearn/linear_model/_logistic.py:458: ConvergenceWarning: lbfgs failed to converge (status=1):\n",
      "STOP: TOTAL NO. of ITERATIONS REACHED LIMIT.\n",
      "\n",
      "Increase the number of iterations (max_iter) or scale the data as shown in:\n",
      "    https://scikit-learn.org/stable/modules/preprocessing.html\n",
      "Please also refer to the documentation for alternative solver options:\n",
      "    https://scikit-learn.org/stable/modules/linear_model.html#logistic-regression\n",
      "  n_iter_i = _check_optimize_result(\n"
     ]
    },
    {
     "name": "stdout",
     "output_type": "stream",
     "text": [
      "Confusion Matrix for {model}:\n",
      "[[1318   86  141    4    2]\n",
      " [ 108   89   21    3    0]\n",
      " [ 139   17   43    4    0]\n",
      " [   7    2    2   12    0]\n",
      " [   2    0    0    0    0]]\n",
      "Accuracy: 0.731\n",
      "Training Random Forest Regressor\n",
      "Confusion Matrix for {model}:\n",
      "[[1500   36   14    1    0]\n",
      " [ 131   83    7    0    0]\n",
      " [ 181    7   14    1    0]\n",
      " [   4    1    0   18    0]\n",
      " [   2    0    0    0    0]]\n",
      "Accuracy: 0.8075\n",
      "Training Support Vector Regressor\n",
      "Confusion Matrix for {model}:\n",
      "[[1551    0    0    0    0]\n",
      " [ 221    0    0    0    0]\n",
      " [ 203    0    0    0    0]\n",
      " [  23    0    0    0    0]\n",
      " [   2    0    0    0    0]]\n",
      "Accuracy: 0.7755\n",
      "Training K-Nearest Neighbors Regressor\n",
      "Confusion Matrix for {model}:\n",
      "[[1466   41   37    7    0]\n",
      " [ 134   81    5    1    0]\n",
      " [ 187    7    9    0    0]\n",
      " [  16    1    0    6    0]\n",
      " [   2    0    0    0    0]]\n",
      "Accuracy: 0.781\n",
      "\n",
      "\n",
      "\n",
      "Predicting:  AffectedProduction\n",
      "\n",
      "Training Logistic Regression\n"
     ]
    },
    {
     "name": "stderr",
     "output_type": "stream",
     "text": [
      "/Users/einar/.conda/envs/Chevron/lib/python3.10/site-packages/sklearn/linear_model/_logistic.py:458: ConvergenceWarning: lbfgs failed to converge (status=1):\n",
      "STOP: TOTAL NO. of ITERATIONS REACHED LIMIT.\n",
      "\n",
      "Increase the number of iterations (max_iter) or scale the data as shown in:\n",
      "    https://scikit-learn.org/stable/modules/preprocessing.html\n",
      "Please also refer to the documentation for alternative solver options:\n",
      "    https://scikit-learn.org/stable/modules/linear_model.html#logistic-regression\n",
      "  n_iter_i = _check_optimize_result(\n"
     ]
    },
    {
     "name": "stdout",
     "output_type": "stream",
     "text": [
      "Confusion Matrix for {model}:\n",
      "[[1794    0    0    0    0    0    0]\n",
      " [  96    0    0    0    0    0    0]\n",
      " [  90    0    0    0    0    0    0]\n",
      " [  11    0    0    0    0    0    0]\n",
      " [   7    0    0    0    0    0    0]\n",
      " [   1    0    0    0    0    0    0]\n",
      " [   1    0    0    0    0    0    0]]\n",
      "Accuracy: 0.897\n",
      "Training Decision Tree Regressor\n",
      "Confusion Matrix for {model}:\n",
      "[[1764   17   13    0    0    0    0]\n",
      " [  25   35   31    2    3    0    0]\n",
      " [  19   31   35    2    3    0    0]\n",
      " [   3    2    5    0    1    0    0]\n",
      " [   0    3    3    0    1    0    0]\n",
      " [   0    0    1    0    0    0    0]\n",
      " [   0    0    0    0    1    0    0]]\n",
      "Accuracy: 0.9175\n",
      "Training Random Forest Regressor\n",
      "Confusion Matrix for {model}:\n",
      "[[1761   23   10    0    0    0    0]\n",
      " [  19   51   26    0    0    0    0]\n",
      " [  13   37   39    1    0    0    0]\n",
      " [   2    2    7    0    0    0    0]\n",
      " [   0    0    7    0    0    0    0]\n",
      " [   0    0    1    0    0    0    0]\n",
      " [   0    1    0    0    0    0    0]]\n",
      "Accuracy: 0.9255\n",
      "Training Support Vector Regressor\n",
      "Confusion Matrix for {model}:\n",
      "[[1794    0    0    0    0    0    0]\n",
      " [  96    0    0    0    0    0    0]\n",
      " [  90    0    0    0    0    0    0]\n",
      " [  11    0    0    0    0    0    0]\n",
      " [   7    0    0    0    0    0    0]\n",
      " [   1    0    0    0    0    0    0]\n",
      " [   1    0    0    0    0    0    0]]\n",
      "Accuracy: 0.897\n",
      "Training K-Nearest Neighbors Regressor\n",
      "Confusion Matrix for {model}:\n",
      "[[1783   10    1    0    0    0    0]\n",
      " [  94    2    0    0    0    0    0]\n",
      " [  88    1    1    0    0    0    0]\n",
      " [  11    0    0    0    0    0    0]\n",
      " [   7    0    0    0    0    0    0]\n",
      " [   1    0    0    0    0    0    0]\n",
      " [   1    0    0    0    0    0    0]]\n",
      "Accuracy: 0.893\n",
      "\n",
      "\n",
      "\n",
      "Predicting:  GrossProductionLoss\n",
      "\n",
      "Training Logistic Regression\n",
      "Confusion Matrix for {model}:\n",
      "[[1977    0    0]\n",
      " [  17    0    0]\n",
      " [   6    0    0]]\n",
      "Accuracy: 0.9885\n",
      "Training Decision Tree Regressor\n",
      "Confusion Matrix for {model}:\n",
      "[[1962    3   12]\n",
      " [  15    2    0]\n",
      " [   5    0    1]]\n",
      "Accuracy: 0.9825\n",
      "Training Random Forest Regressor\n"
     ]
    },
    {
     "name": "stderr",
     "output_type": "stream",
     "text": [
      "/Users/einar/.conda/envs/Chevron/lib/python3.10/site-packages/sklearn/linear_model/_logistic.py:458: ConvergenceWarning: lbfgs failed to converge (status=1):\n",
      "STOP: TOTAL NO. of ITERATIONS REACHED LIMIT.\n",
      "\n",
      "Increase the number of iterations (max_iter) or scale the data as shown in:\n",
      "    https://scikit-learn.org/stable/modules/preprocessing.html\n",
      "Please also refer to the documentation for alternative solver options:\n",
      "    https://scikit-learn.org/stable/modules/linear_model.html#logistic-regression\n",
      "  n_iter_i = _check_optimize_result(\n"
     ]
    },
    {
     "name": "stdout",
     "output_type": "stream",
     "text": [
      "Confusion Matrix for {model}:\n",
      "[[1976    0    1]\n",
      " [  17    0    0]\n",
      " [   6    0    0]]\n",
      "Accuracy: 0.988\n",
      "Training Support Vector Regressor\n",
      "Confusion Matrix for {model}:\n",
      "[[1977    0    0]\n",
      " [  17    0    0]\n",
      " [   6    0    0]]\n",
      "Accuracy: 0.9885\n",
      "Training K-Nearest Neighbors Regressor\n",
      "Confusion Matrix for {model}:\n",
      "[[1977    0    0]\n",
      " [  17    0    0]\n",
      " [   6    0    0]]\n",
      "Accuracy: 0.9885\n",
      "\n",
      "\n",
      "\n",
      "Predicting:  DaysFromLastFailure_int\n",
      "\n",
      "Training Logistic Regression\n"
     ]
    },
    {
     "name": "stderr",
     "output_type": "stream",
     "text": [
      "/Users/einar/.conda/envs/Chevron/lib/python3.10/site-packages/sklearn/linear_model/_logistic.py:458: ConvergenceWarning: lbfgs failed to converge (status=1):\n",
      "STOP: TOTAL NO. of ITERATIONS REACHED LIMIT.\n",
      "\n",
      "Increase the number of iterations (max_iter) or scale the data as shown in:\n",
      "    https://scikit-learn.org/stable/modules/preprocessing.html\n",
      "Please also refer to the documentation for alternative solver options:\n",
      "    https://scikit-learn.org/stable/modules/linear_model.html#logistic-regression\n",
      "  n_iter_i = _check_optimize_result(\n"
     ]
    },
    {
     "name": "stdout",
     "output_type": "stream",
     "text": [
      "Confusion Matrix for {model}:\n",
      "[[272   0   0 226   0   0   0   0]\n",
      " [ 32   0   0  61   0   0   0   0]\n",
      " [ 98   0   0 343   0   0   0   0]\n",
      " [ 73   0   0 518   0   0   0   0]\n",
      " [ 10   0   0 183   0   0   0   0]\n",
      " [  5   0   0  82   0   0   0   0]\n",
      " [  3   0   0  90   0   0   0   0]\n",
      " [  0   0   0   4   0   0   0   0]]\n",
      "Accuracy: 0.395\n",
      "Training Decision Tree Regressor\n",
      "Confusion Matrix for {model}:\n",
      "[[260  23  98  83  17  13   4   0]\n",
      " [ 24   6  23  26   8   4   2   0]\n",
      " [103  17 112 145  37  20   6   1]\n",
      " [107  23 117 224  71  31  16   2]\n",
      " [ 15   8  27  70  51  13   9   0]\n",
      " [ 11   2   7  28  18  14   5   2]\n",
      " [  5   1  12  21  20   7  27   0]\n",
      " [  1   0   0   0   0   0   1   2]]\n",
      "Accuracy: 0.348\n",
      "Training Random Forest Regressor\n",
      "Confusion Matrix for {model}:\n",
      "[[292   5  79 108   4   3   7   0]\n",
      " [ 27   0  29  27   7   1   2   0]\n",
      " [ 87   9 131 178  23   9   3   1]\n",
      " [ 81   8  87 346  44  16   8   1]\n",
      " [ 18   1  20 103  37   8   5   1]\n",
      " [  4   0   8  43  13   9   9   1]\n",
      " [  6   0   6  36  13   8  24   0]\n",
      " [  1   0   0   0   0   1   1   1]]\n",
      "Accuracy: 0.42\n",
      "Training Support Vector Regressor\n",
      "Confusion Matrix for {model}:\n",
      "[[136   0   0 362   0   0   0   0]\n",
      " [ 18   0   0  75   0   0   0   0]\n",
      " [ 60   0   0 381   0   0   0   0]\n",
      " [ 91   0   0 500   0   0   0   0]\n",
      " [ 19   0   0 174   0   0   0   0]\n",
      " [ 12   0   0  75   0   0   0   0]\n",
      " [  8   0   0  85   0   0   0   0]\n",
      " [  1   0   0   3   0   0   0   0]]\n",
      "Accuracy: 0.318\n",
      "Training K-Nearest Neighbors Regressor\n",
      "Confusion Matrix for {model}:\n",
      "[[266  11  78 111  19   8   5   0]\n",
      " [ 36   1  22  31   1   1   1   0]\n",
      " [118   8 110 165  24  10   5   1]\n",
      " [120  10 123 269  45  16   8   0]\n",
      " [ 42   5  43  72  21   6   4   0]\n",
      " [ 22   4  20  32   5   3   1   0]\n",
      " [ 21   0  17  40   5   3   7   0]\n",
      " [  0   0   0   3   1   0   0   0]]\n",
      "Accuracy: 0.3385\n",
      "\n",
      "\n",
      "\n"
     ]
    }
   ],
   "source": [
    "models = {\n",
    "    \"Logistic Regression\": LogisticRegression(),\n",
    "    \"Decision Tree Regressor\": DecisionTreeClassifier(),\n",
    "    \"Random Forest Regressor\": RandomForestClassifier(),\n",
    "    \"Support Vector Regressor\": SVC(),\n",
    "    \"K-Nearest Neighbors Regressor\": KNeighborsClassifier(),\n",
    "}\n",
    "\n",
    "i = 0\n",
    "for split in splits:\n",
    "    print(\"Predicting: \", y[i])\n",
    "    print(\"\")\n",
    "    for name, model in models.items():\n",
    "        print(\"Training\", name)\n",
    "        model.fit(split[0], split[2])\n",
    "\n",
    "        y_pred = model.predict(split[1])\n",
    "        accuracy = accuracy_score(split[3], y_pred)\n",
    "\n",
    "\n",
    "        cm = confusion_matrix(split[3], y_pred)\n",
    "\n",
    "    # print the confusion matrix and the model's name\n",
    "        print(\"Confusion Matrix for {model}:\")\n",
    "        print(cm)\n",
    "        print(\"Accuracy:\", accuracy)\n",
    "    i+=1\n",
    "    print(\"\")\n",
    "    print(\"\")\n",
    "    print(\"\")"
   ],
   "metadata": {
    "collapsed": false,
    "ExecuteTime": {
     "start_time": "2023-05-02T19:48:39.995521Z",
     "end_time": "2023-05-02T19:48:53.784312Z"
    }
   }
  }
 ],
 "metadata": {
  "kernelspec": {
   "display_name": "Python 3",
   "language": "python",
   "name": "python3"
  },
  "language_info": {
   "codemirror_mode": {
    "name": "ipython",
    "version": 2
   },
   "file_extension": ".py",
   "mimetype": "text/x-python",
   "name": "python",
   "nbconvert_exporter": "python",
   "pygments_lexer": "ipython2",
   "version": "2.7.6"
  }
 },
 "nbformat": 4,
 "nbformat_minor": 0
}
