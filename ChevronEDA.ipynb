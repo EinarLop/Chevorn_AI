{
 "cells": [
  {
   "cell_type": "markdown",
   "id": "278bdef6-49d6-4404-a97f-bd6d4732fd25",
   "metadata": {},
   "source": [
    "# Statistical Analysis of Permian Basin Equipment Maintenance at Chevron\n"
   ]
  },
  {
   "cell_type": "markdown",
   "id": "7df66a83-a645-4688-bcdd-a6bdcc825304",
   "metadata": {},
   "source": [
    "## Issue\n",
    "Performing a solid statistical analysis with the given dataset (workorderdata.csv) presented considerable issues since the beginning. The data is incomplete and full of NaN, and dropping all these entries ended up in a huge percentage of data loss of about 60%. In any other situation, this would be acceptable because even after cleaning the data we would have around 500k entries, but considering that the dataset represents a time series of maintenance jobs and that we are trying to predict when the equipment will fail again dropping the entries would end up in skew and unprecise results.  "
   ]
  },
  {
   "cell_type": "markdown",
   "id": "925e26cf-733b-408a-90df-3c47b40c8e6e",
   "metadata": {},
   "source": [
    "## Solution\n",
    "To work around this problem I decided to only consider the columns without any NaN in them, assuming that they are 100% complete because they represent the most important data in the logging of every job.\n",
    "Said columns are: \n",
    "\"WorkOrder\", \"SupervisorRole\", \"TradeGroup\",  \"CreatedDate\",                                \"IsAffectingProduction\",                                 \"AffectedProduction\",                            \"GrossProductionLoss\", \"Duration\", \"Safety\", \"WOType\", \"Reopened\", \"StatusDescription\", \"EquipmentCode\",\n",
    "\"StatusCode\" and                       \"EquipmentType\"."
   ]
  },
  {
   "cell_type": "markdown",
   "id": "1d665368-6ae6-4466-ab3c-6c31ee71e9ea",
   "metadata": {},
   "source": [
    "## EDA\n"
   ]
  },
  {
   "cell_type": "code",
   "execution_count": 1,
   "id": "094f2416-5d6c-464a-b089-dbcee534c735",
   "metadata": {
    "ExecuteTime": {
     "start_time": "2023-05-02T18:44:09.062262Z",
     "end_time": "2023-05-02T18:44:11.391383Z"
    }
   },
   "outputs": [],
   "source": [
    "import pandas as pd\n",
    "import numpy as np\n",
    "from scipy.stats.mstats import winsorize\n",
    "from sklearn.preprocessing import LabelEncoder"
   ]
  },
  {
   "cell_type": "code",
   "execution_count": 2,
   "id": "b6c479ff-c62f-4052-a8fa-047c3bb4b9d6",
   "metadata": {
    "tags": [],
    "ExecuteTime": {
     "start_time": "2023-05-02T18:44:11.390337Z",
     "end_time": "2023-05-02T18:44:24.362873Z"
    }
   },
   "outputs": [
    {
     "name": "stderr",
     "output_type": "stream",
     "text": [
      "/var/folders/cl/s5bcg3hn4tv5q_rwxx9sgg5r0000gn/T/ipykernel_99350/99475405.py:1: DtypeWarning: Columns (43,46,48,49,52,53,54) have mixed types. Specify dtype option on import or set low_memory=False.\n",
      "  worker_order_df = pd.read_csv('workorderdata/workorderdata.csv')\n"
     ]
    }
   ],
   "source": [
    "worker_order_df = pd.read_csv('workorderdata/workorderdata.csv')"
   ]
  },
  {
   "cell_type": "markdown",
   "id": "81c8ae76-6dcb-43b8-a8c8-d3df2bb539d6",
   "metadata": {},
   "source": [
    "Before dropping all the unnecessary columns, a simple analysis was made to determine how the data was going to be split according to the job type preventive or corrective. \n",
    "\n",
    "Solution: Split the dataset into PPM and (JOB + XA + AA + STAT + IN + MRC + XL + PL)"
   ]
  },
  {
   "cell_type": "code",
   "execution_count": 3,
   "id": "4867ba53-031c-45e3-966c-1d2496f06337",
   "metadata": {
    "tags": [],
    "ExecuteTime": {
     "start_time": "2023-05-02T18:44:24.517138Z",
     "end_time": "2023-05-02T18:44:25.351816Z"
    }
   },
   "outputs": [
    {
     "name": "stdout",
     "output_type": "stream",
     "text": [
      "PPM (651628, 2)\n",
      "JOB (580288, 2)\n",
      "XA (0, 2)\n",
      "AA (0, 2)\n",
      "STAT (0, 2)\n",
      "IN (0, 2)\n",
      "MRC (0, 2)\n",
      "XL (0, 2)\n",
      "PL (0, 2)\n"
     ]
    }
   ],
   "source": [
    "test = worker_order_df[[\"WOType\", \"JobType\"]]\n",
    "\n",
    "ppm_df = test.query('WOType == \"PPM\"').dropna()\n",
    "print(\"PPM\", ppm_df.shape)\n",
    "\n",
    "job_df = test.query('WOType == \"JOB\"').dropna()\n",
    "print(\"JOB\", job_df.shape)\n",
    "\n",
    "xa_df = test.query('WOType == \"XA\"').dropna()\n",
    "print(\"XA\", xa_df.shape)\n",
    "\n",
    "aa_df = test.query('WOType == \"AA\"').dropna()\n",
    "print(\"AA\", aa_df.shape)\n",
    "\n",
    "stat_df = test.query('WOType == \"STAT\"').dropna()\n",
    "print(\"STAT\", stat_df.shape)\n",
    "\n",
    "in_df = test.query('WOType == \"IN\"').dropna()\n",
    "print(\"IN\", in_df.shape)\n",
    "\n",
    "mrc_df = test.query('WOType == \"MRC\"').dropna()\n",
    "print(\"MRC\", mrc_df.shape)\n",
    "\n",
    "xl_df = test.query('WOType == \"XL\"').dropna()\n",
    "print(\"XL\", xl_df.shape)\n",
    "\n",
    "pl_df = test.query('WOType == \"PL\"').dropna()\n",
    "print(\"PL\", pl_df.shape)"
   ]
  },
  {
   "cell_type": "markdown",
   "id": "9bf9193a-5021-4af9-811a-45a0e4bd8bea",
   "metadata": {},
   "source": [
    "Dropping Columns. \"StatusDescription\" was dropped to because is the long form of \"StatusCode\""
   ]
  },
  {
   "cell_type": "code",
   "execution_count": 4,
   "id": "d9d3ca7b-1961-4169-bb48-7df76b05782c",
   "metadata": {
    "tags": [],
    "ExecuteTime": {
     "start_time": "2023-05-02T18:44:26.222914Z",
     "end_time": "2023-05-02T18:44:26.267477Z"
    }
   },
   "outputs": [
    {
     "data": {
      "text/plain": "    WorkOrder                  SupervisorRole  TradeGroup CreatedDate  \\\n0  DS10001182  Surface Maintenance Supervisor  Mechanical  2008-09-30   \n1  DS10001195  Surface Maintenance Supervisor  Mechanical  2008-09-30   \n2  DS10001202           Production Supervisor  Mechanical  2008-09-30   \n3  DS10001205  Surface Maintenance Supervisor  Mechanical  2008-09-30   \n4  DS10001226  Surface Maintenance Supervisor    Electric  2008-09-30   \n\n  IsAffectingProduction  AffectedProduction  GrossProductionLoss  Duration  \\\n0                    No                   0                    0        30   \n1                    No                   0                    0         7   \n2                    No                   0                    0         1   \n3                   Yes                   8                    0         1   \n4                    No                   0                    0         7   \n\n  Safety WOType Reopened  EquipmentCode StatusCode EquipmentType  \n0      N    JOB        N         EO9659          C        System  \n1      N    JOB        N     79A0052188          C         Asset  \n2      N    JOB        N       CY3417WH          C      Position  \n3      N    JOB        N     22B0361288          C         Asset  \n4      N    JOB        N  BCT49CVUBP4V2          C      Position  ",
      "text/html": "<div>\n<style scoped>\n    .dataframe tbody tr th:only-of-type {\n        vertical-align: middle;\n    }\n\n    .dataframe tbody tr th {\n        vertical-align: top;\n    }\n\n    .dataframe thead th {\n        text-align: right;\n    }\n</style>\n<table border=\"1\" class=\"dataframe\">\n  <thead>\n    <tr style=\"text-align: right;\">\n      <th></th>\n      <th>WorkOrder</th>\n      <th>SupervisorRole</th>\n      <th>TradeGroup</th>\n      <th>CreatedDate</th>\n      <th>IsAffectingProduction</th>\n      <th>AffectedProduction</th>\n      <th>GrossProductionLoss</th>\n      <th>Duration</th>\n      <th>Safety</th>\n      <th>WOType</th>\n      <th>Reopened</th>\n      <th>EquipmentCode</th>\n      <th>StatusCode</th>\n      <th>EquipmentType</th>\n    </tr>\n  </thead>\n  <tbody>\n    <tr>\n      <th>0</th>\n      <td>DS10001182</td>\n      <td>Surface Maintenance Supervisor</td>\n      <td>Mechanical</td>\n      <td>2008-09-30</td>\n      <td>No</td>\n      <td>0</td>\n      <td>0</td>\n      <td>30</td>\n      <td>N</td>\n      <td>JOB</td>\n      <td>N</td>\n      <td>EO9659</td>\n      <td>C</td>\n      <td>System</td>\n    </tr>\n    <tr>\n      <th>1</th>\n      <td>DS10001195</td>\n      <td>Surface Maintenance Supervisor</td>\n      <td>Mechanical</td>\n      <td>2008-09-30</td>\n      <td>No</td>\n      <td>0</td>\n      <td>0</td>\n      <td>7</td>\n      <td>N</td>\n      <td>JOB</td>\n      <td>N</td>\n      <td>79A0052188</td>\n      <td>C</td>\n      <td>Asset</td>\n    </tr>\n    <tr>\n      <th>2</th>\n      <td>DS10001202</td>\n      <td>Production Supervisor</td>\n      <td>Mechanical</td>\n      <td>2008-09-30</td>\n      <td>No</td>\n      <td>0</td>\n      <td>0</td>\n      <td>1</td>\n      <td>N</td>\n      <td>JOB</td>\n      <td>N</td>\n      <td>CY3417WH</td>\n      <td>C</td>\n      <td>Position</td>\n    </tr>\n    <tr>\n      <th>3</th>\n      <td>DS10001205</td>\n      <td>Surface Maintenance Supervisor</td>\n      <td>Mechanical</td>\n      <td>2008-09-30</td>\n      <td>Yes</td>\n      <td>8</td>\n      <td>0</td>\n      <td>1</td>\n      <td>N</td>\n      <td>JOB</td>\n      <td>N</td>\n      <td>22B0361288</td>\n      <td>C</td>\n      <td>Asset</td>\n    </tr>\n    <tr>\n      <th>4</th>\n      <td>DS10001226</td>\n      <td>Surface Maintenance Supervisor</td>\n      <td>Electric</td>\n      <td>2008-09-30</td>\n      <td>No</td>\n      <td>0</td>\n      <td>0</td>\n      <td>7</td>\n      <td>N</td>\n      <td>JOB</td>\n      <td>N</td>\n      <td>BCT49CVUBP4V2</td>\n      <td>C</td>\n      <td>Position</td>\n    </tr>\n  </tbody>\n</table>\n</div>"
     },
     "execution_count": 4,
     "metadata": {},
     "output_type": "execute_result"
    }
   ],
   "source": [
    "worker_order_df = worker_order_df[[\"WorkOrder\",\n",
    "                                   \"SupervisorRole\",\n",
    "                                   \"TradeGroup\",\n",
    "                                   \"CreatedDate\",\n",
    "                                   \"IsAffectingProduction\",\n",
    "                                   \"AffectedProduction\",\n",
    "                                   \"GrossProductionLoss\",\n",
    "                                   \"Duration\",\n",
    "                                   \"Safety\",\n",
    "                                   \"WOType\",\n",
    "                                   \"Reopened\",\n",
    "                                   # \"StatusDescription\", Deleted because is the long form of StatusCode\n",
    "                                   \"EquipmentCode\",\n",
    "                                   \"StatusCode\",\n",
    "                                   \"EquipmentType\"]]\n",
    "worker_order_df.head()"
   ]
  },
  {
   "cell_type": "markdown",
   "id": "17f0b558-2470-447d-b6b6-faf46c9a6350",
   "metadata": {},
   "source": [
    "Analysis of the categorical variables"
   ]
  },
  {
   "cell_type": "code",
   "execution_count": 5,
   "id": "82501f28-ae65-4597-b3dd-45d25422f2c7",
   "metadata": {
    "tags": [],
    "ExecuteTime": {
     "start_time": "2023-05-02T18:44:26.329924Z",
     "end_time": "2023-05-02T18:44:28.057065Z"
    }
   },
   "outputs": [
    {
     "name": "stdout",
     "output_type": "stream",
     "text": [
      "SupervisorRole\n",
      "Surface Maintenance Supervisor    1076675\n",
      "Production Supervisor              243015\n",
      "IE Supervisor                       61211\n",
      "Surface Maintenance Advisor         49018\n",
      "dtype: int64\n",
      "\n",
      "TradeGroup\n",
      "Mechanical    1154732\n",
      "Electric       178429\n",
      "Admin           78285\n",
      "Other           18473\n",
      "dtype: int64\n",
      "\n",
      "IsAffectingProduction\n",
      "No     1350135\n",
      "Yes      79784\n",
      "dtype: int64\n",
      "\n",
      "Safety\n",
      "N    1424354\n",
      "Y       5565\n",
      "dtype: int64\n",
      "\n",
      "WOType\n",
      "PPM     651628\n",
      "JOB     580288\n",
      "XA       70133\n",
      "AA       58136\n",
      "STAT     32318\n",
      "IN       18398\n",
      "MRC       9716\n",
      "XL        9298\n",
      "PL           4\n",
      "dtype: int64\n",
      "\n",
      "Reopened\n",
      "N    1418644\n",
      "Y      11275\n",
      "dtype: int64\n",
      "\n",
      "StatusCode\n",
      "C       1285288\n",
      "A         62753\n",
      "REJ       26693\n",
      "CANC      21344\n",
      "R         15215\n",
      "D          9404\n",
      "SCH        4527\n",
      "SJOB       1847\n",
      "SD         1030\n",
      "WM          558\n",
      "B           410\n",
      "HC          403\n",
      "Q           165\n",
      "HE          123\n",
      "MOC          79\n",
      "EC           56\n",
      "HR           11\n",
      "REO           6\n",
      "RFMI          6\n",
      "MIN           1\n",
      "dtype: int64\n",
      "\n",
      "EquipmentType\n",
      "Position    571542\n",
      "System      541413\n",
      "Asset       307979\n",
      "Location      8985\n",
      "dtype: int64\n",
      "\n",
      "Non categorical variables\n",
      "['WorkOrder', 'CreatedDate', 'AffectedProduction', 'GrossProductionLoss', 'Duration', 'EquipmentCode']\n"
     ]
    }
   ],
   "source": [
    "columns = worker_order_df.columns\n",
    "id_vars = []\n",
    "for column in columns:\n",
    "    uniques = worker_order_df[column].unique()\n",
    "    if len(uniques) < 100:\n",
    "        print(worker_order_df.groupby([column]).size().sort_values(ascending=False))\n",
    "        print()\n",
    "    else:\n",
    "        id_vars.append(column)\n",
    "print(\"Non categorical variables\", id_vars, sep=\"\\n\")\n"
   ]
  },
  {
   "cell_type": "markdown",
   "id": "8f1dc090-1277-44ab-b10e-abd80cbba6ce",
   "metadata": {},
   "source": [
    "Data split, corrective and preventive jobs"
   ]
  },
  {
   "cell_type": "code",
   "execution_count": 6,
   "id": "4f97e655-208d-4c5e-b7d5-4c17df338f5f",
   "metadata": {
    "ExecuteTime": {
     "start_time": "2023-05-02T18:44:28.059851Z",
     "end_time": "2023-05-02T18:44:28.362606Z"
    }
   },
   "outputs": [
    {
     "data": {
      "text/plain": "(778291, 14)"
     },
     "execution_count": 6,
     "metadata": {},
     "output_type": "execute_result"
    }
   ],
   "source": [
    "job_df = worker_order_df.query('WOType != \"PPM\"')\n",
    "ppm_df = worker_order_df.query('WOType == \"PPM\"')\n",
    "job_df.shape"
   ]
  },
  {
   "cell_type": "markdown",
   "id": "c68988be-fca1-47a4-b35e-0205803a4ce4",
   "metadata": {},
   "source": [
    "Analysing what equipments were the ones with most failures"
   ]
  },
  {
   "cell_type": "code",
   "execution_count": 7,
   "id": "f8d945e8-e83d-4b39-87a0-2d56a25905f6",
   "metadata": {
    "ExecuteTime": {
     "start_time": "2023-05-02T18:44:28.362844Z",
     "end_time": "2023-05-02T18:44:28.625691Z"
    }
   },
   "outputs": [
    {
     "data": {
      "text/plain": "EquipmentCode\nC35              5465\nV60              2943\nMWTP             2286\n0081             2080\nJ48              1920\nSKINNER-RIDGE    1830\nCO2GEN           1747\nNMO-L            1440\n59836AVF         1384\nWEWIS            1376\nV60MBS           1368\nVAN              1242\nC35INJ           1196\nBUCKEYE          1023\nBI2               920\nVEALMOOR          861\nC35SWP            852\nBECKVILLE         801\nBCT49CVUB         777\nKR                766\nC35O              755\nBP8               752\nHDGP              747\nC35CS04           735\nBPJ6CRFCC         714\nNGL1              713\nDEADWOOD          653\nCO2T1             630\nC35CS05           625\nC35CS47           609\ndtype: int64"
     },
     "execution_count": 7,
     "metadata": {},
     "output_type": "execute_result"
    }
   ],
   "source": [
    "job_df.groupby([\"EquipmentCode\"]).size().sort_values(ascending=False).head(30)"
   ]
  },
  {
   "cell_type": "markdown",
   "id": "635d9d47-1ac1-4649-9def-b2435f725f22",
   "metadata": {},
   "source": [
    "Discrovered that many eqiupments had many jobs at the same day"
   ]
  },
  {
   "cell_type": "code",
   "execution_count": 8,
   "id": "78aa166c-27cc-4bd7-8853-65c2e9ea3531",
   "metadata": {
    "ExecuteTime": {
     "start_time": "2023-05-02T18:44:28.649647Z",
     "end_time": "2023-05-02T18:44:29.077230Z"
    }
   },
   "outputs": [
    {
     "data": {
      "text/plain": "EquipmentCode  CreatedDate\nV60            2006-05-27     362\nBCT49CVUB      2006-05-27     330\nBU50           2006-05-27     322\nV60BISYS       2006-05-27     289\n0081           2006-05-27     266\nH33BF2CS       2006-05-27     252\nC35            2006-05-27     194\nBCT49VGSAUB    2006-05-27     191\n59836AVF       2009-08-17     186\nH33            2006-05-27     178\nCO2T1          2006-05-27     169\nNMO-L          2006-05-27     162\nUCT49VGWUB     2006-05-27     153\nV60MBS         2006-05-27     149\nWCBATT2        2006-05-27     135\nC35SWP         2006-05-27     132\nBCT49CVUIJ     2006-05-27     121\nH33BF18CS      2006-05-27     114\nUCT7NVAWUB     2006-05-27     114\nUCT49WVUB      2006-05-27     110\nLK8SU940BW     2006-05-27     105\nV60205CSB      2006-05-27      97\nH33BF16CS      2006-05-27      97\nC35O           2006-05-27      96\nMWTP           2011-10-26      95\nUCT49VDB       2006-05-27      91\nV60            2016-10-07      84\nUCT49ARB       2006-05-27      84\nNMO            2006-05-27      82\nNGL1           2006-05-27      80\ndtype: int64"
     },
     "execution_count": 8,
     "metadata": {},
     "output_type": "execute_result"
    }
   ],
   "source": [
    "job_df.groupby([\"EquipmentCode\", \"CreatedDate\"]).size().sort_values(ascending=False).head(30)"
   ]
  },
  {
   "cell_type": "markdown",
   "id": "e4bb801e-b713-4548-a105-4c0b15d243f4",
   "metadata": {},
   "source": [
    "Grouped all the entries for the same equipement in the same day and keeping the one with the highest duration"
   ]
  },
  {
   "cell_type": "code",
   "execution_count": 9,
   "id": "3ce8d5ee-eb1e-44a7-b05e-81fe41ca8886",
   "metadata": {
    "ExecuteTime": {
     "start_time": "2023-05-02T18:44:29.085474Z",
     "end_time": "2023-05-02T18:44:53.259687Z"
    }
   },
   "outputs": [],
   "source": [
    "same_day_jobs_df = job_df.loc[job_df.groupby([\"EquipmentCode\", \"CreatedDate\"])['Duration'].idxmax()].reset_index(drop=True)"
   ]
  },
  {
   "cell_type": "markdown",
   "id": "31564c14-50ed-444e-ab52-5dee1ee9767e",
   "metadata": {},
   "source": [
    "Reduced the data set from entried 778291 to 604397 entries"
   ]
  },
  {
   "cell_type": "code",
   "execution_count": 10,
   "id": "aa205c20-39b2-47fc-9d99-d57cb6a930b6",
   "metadata": {
    "ExecuteTime": {
     "start_time": "2023-05-02T18:44:53.265528Z",
     "end_time": "2023-05-02T18:44:53.273223Z"
    }
   },
   "outputs": [
    {
     "data": {
      "text/plain": "(604397, 14)"
     },
     "execution_count": 10,
     "metadata": {},
     "output_type": "execute_result"
    }
   ],
   "source": [
    "same_day_jobs_df.shape"
   ]
  },
  {
   "cell_type": "markdown",
   "id": "949e7363-a053-4779-bc0f-8f5531085510",
   "metadata": {},
   "source": [
    "Second analysis of the equipments with the most jobs"
   ]
  },
  {
   "cell_type": "code",
   "execution_count": 11,
   "id": "ccf204a4-a65c-41c9-857e-b24da6245306",
   "metadata": {
    "tags": [],
    "ExecuteTime": {
     "start_time": "2023-05-02T18:44:53.331812Z",
     "end_time": "2023-05-02T18:44:53.508866Z"
    }
   },
   "outputs": [
    {
     "name": "stdout",
     "output_type": "stream",
     "text": [
      "EquipmentCode\n",
      "V60                        1160\n",
      "C35                        1152\n",
      "MWTP                        948\n",
      "0081                        941\n",
      "SKINNER-RIDGE               910\n",
      "                           ... \n",
      "EO1656                        1\n",
      "EO1655                        1\n",
      "EO1466POC                     1\n",
      "EO1466FL                      1\n",
      "ZOROSAKWP-UTIL-ZZZ0027B       1\n",
      "Length: 177000, dtype: int64\n",
      "EquipmentCode\n",
      "V60                1160\n",
      "C35                2312\n",
      "MWTP               3260\n",
      "0081               4201\n",
      "SKINNER-RIDGE      5111\n",
      "                  ...  \n",
      "77A0056768       483509\n",
      "66H0070301       483511\n",
      "22B5308413       483513\n",
      "66H0070302       483515\n",
      "66H0070303       483517\n",
      "Length: 73274, dtype: int64 \n",
      "\n",
      "Deleted:  103726\n"
     ]
    }
   ],
   "source": [
    "# Equipments that cause 80% of the problems\n",
    "equipment_jobs_ser = same_day_jobs_df.groupby([\"EquipmentCode\"]).size().sort_values(ascending=False)\n",
    "print(equipment_jobs_ser)\n",
    "sum_equipment_jobs_ser = equipment_jobs_ser.cumsum()\n",
    "job_80_ser = sum_equipment_jobs_ser[sum_equipment_jobs_ser< same_day_jobs_df.shape[0] * 0.8]\n",
    "print(job_80_ser, \"\\n\")\n",
    "print(\"Deleted: \",equipment_jobs_ser.shape[0] - job_80_ser.shape[0])"
   ]
  },
  {
   "cell_type": "markdown",
   "id": "09e9758d-b5e7-4d17-aa1f-b83329f45b8b",
   "metadata": {},
   "source": [
    "To reduce the data we are only studying the equipments that cause 80% of the jobs. Reducing the data set from 604397 to 483517. Also added the column \"FailureCount\""
   ]
  },
  {
   "cell_type": "code",
   "execution_count": 12,
   "id": "de757872-7ffe-46a3-b663-49711092d519",
   "metadata": {
    "ExecuteTime": {
     "start_time": "2023-05-02T18:44:53.595619Z",
     "end_time": "2023-05-02T18:44:54.167492Z"
    }
   },
   "outputs": [
    {
     "name": "stdout",
     "output_type": "stream",
     "text": [
      "(483517, 15)\n"
     ]
    },
    {
     "data": {
      "text/plain": "       EquipmentCode  WorkOrder                  SupervisorRole  TradeGroup  \\\n464851           V60  DS3286979  Surface Maintenance Supervisor       Admin   \n464852           V60  DS8001035  Surface Maintenance Supervisor  Mechanical   \n464853           V60  DS8013075  Surface Maintenance Supervisor  Mechanical   \n464854           V60  DS8014023  Surface Maintenance Supervisor  Mechanical   \n464855           V60  DS8019382  Surface Maintenance Supervisor  Mechanical   \n\n       CreatedDate IsAffectingProduction  AffectedProduction  \\\n464851  2006-05-27                    No                   0   \n464852  2006-06-09                    No                   0   \n464853  2006-06-13                    No                   0   \n464854  2006-06-14                    No                   0   \n464855  2006-06-22                    No                   0   \n\n        GrossProductionLoss  Duration Safety WOType Reopened StatusCode  \\\n464851                    0        45      N    JOB        N          C   \n464852               593243        10      N    JOB        N          C   \n464853                    0        45      N    JOB        N          C   \n464854                    0         1      N    JOB        N          C   \n464855                    0         1      N    JOB        N          C   \n\n       EquipmentType  FailureCount  \n464851        System          1160  \n464852        System          1160  \n464853        System          1160  \n464854        System          1160  \n464855        System          1160  ",
      "text/html": "<div>\n<style scoped>\n    .dataframe tbody tr th:only-of-type {\n        vertical-align: middle;\n    }\n\n    .dataframe tbody tr th {\n        vertical-align: top;\n    }\n\n    .dataframe thead th {\n        text-align: right;\n    }\n</style>\n<table border=\"1\" class=\"dataframe\">\n  <thead>\n    <tr style=\"text-align: right;\">\n      <th></th>\n      <th>EquipmentCode</th>\n      <th>WorkOrder</th>\n      <th>SupervisorRole</th>\n      <th>TradeGroup</th>\n      <th>CreatedDate</th>\n      <th>IsAffectingProduction</th>\n      <th>AffectedProduction</th>\n      <th>GrossProductionLoss</th>\n      <th>Duration</th>\n      <th>Safety</th>\n      <th>WOType</th>\n      <th>Reopened</th>\n      <th>StatusCode</th>\n      <th>EquipmentType</th>\n      <th>FailureCount</th>\n    </tr>\n  </thead>\n  <tbody>\n    <tr>\n      <th>464851</th>\n      <td>V60</td>\n      <td>DS3286979</td>\n      <td>Surface Maintenance Supervisor</td>\n      <td>Admin</td>\n      <td>2006-05-27</td>\n      <td>No</td>\n      <td>0</td>\n      <td>0</td>\n      <td>45</td>\n      <td>N</td>\n      <td>JOB</td>\n      <td>N</td>\n      <td>C</td>\n      <td>System</td>\n      <td>1160</td>\n    </tr>\n    <tr>\n      <th>464852</th>\n      <td>V60</td>\n      <td>DS8001035</td>\n      <td>Surface Maintenance Supervisor</td>\n      <td>Mechanical</td>\n      <td>2006-06-09</td>\n      <td>No</td>\n      <td>0</td>\n      <td>593243</td>\n      <td>10</td>\n      <td>N</td>\n      <td>JOB</td>\n      <td>N</td>\n      <td>C</td>\n      <td>System</td>\n      <td>1160</td>\n    </tr>\n    <tr>\n      <th>464853</th>\n      <td>V60</td>\n      <td>DS8013075</td>\n      <td>Surface Maintenance Supervisor</td>\n      <td>Mechanical</td>\n      <td>2006-06-13</td>\n      <td>No</td>\n      <td>0</td>\n      <td>0</td>\n      <td>45</td>\n      <td>N</td>\n      <td>JOB</td>\n      <td>N</td>\n      <td>C</td>\n      <td>System</td>\n      <td>1160</td>\n    </tr>\n    <tr>\n      <th>464854</th>\n      <td>V60</td>\n      <td>DS8014023</td>\n      <td>Surface Maintenance Supervisor</td>\n      <td>Mechanical</td>\n      <td>2006-06-14</td>\n      <td>No</td>\n      <td>0</td>\n      <td>0</td>\n      <td>1</td>\n      <td>N</td>\n      <td>JOB</td>\n      <td>N</td>\n      <td>C</td>\n      <td>System</td>\n      <td>1160</td>\n    </tr>\n    <tr>\n      <th>464855</th>\n      <td>V60</td>\n      <td>DS8019382</td>\n      <td>Surface Maintenance Supervisor</td>\n      <td>Mechanical</td>\n      <td>2006-06-22</td>\n      <td>No</td>\n      <td>0</td>\n      <td>0</td>\n      <td>1</td>\n      <td>N</td>\n      <td>JOB</td>\n      <td>N</td>\n      <td>C</td>\n      <td>System</td>\n      <td>1160</td>\n    </tr>\n  </tbody>\n</table>\n</div>"
     },
     "execution_count": 12,
     "metadata": {},
     "output_type": "execute_result"
    }
   ],
   "source": [
    "job_80_df = same_day_jobs_df[same_day_jobs_df['EquipmentCode'].isin(job_80_ser.keys())]\n",
    "job_80_df = job_80_df.set_index('EquipmentCode').assign(FailureCount=job_80_df['EquipmentCode'].value_counts()).reset_index()\n",
    "job_80_df = job_80_df.sort_values(by=[\"FailureCount\", \"CreatedDate\"], ascending=[False, True])\n",
    "print(job_80_df.shape)\n",
    "job_80_df.head()"
   ]
  },
  {
   "cell_type": "markdown",
   "id": "ebbe909a-a4e1-49ed-8f80-5c086d5b079c",
   "metadata": {},
   "source": [
    "Second analysis of the categorical variables"
   ]
  },
  {
   "cell_type": "code",
   "execution_count": 13,
   "id": "b9912981-5b3d-4584-8468-42925f1ef713",
   "metadata": {
    "ExecuteTime": {
     "start_time": "2023-05-02T18:44:54.222558Z",
     "end_time": "2023-05-02T18:44:54.901578Z"
    }
   },
   "outputs": [
    {
     "name": "stdout",
     "output_type": "stream",
     "text": [
      "SupervisorRole\n",
      "Surface Maintenance Supervisor    388005\n",
      "Production Supervisor              49756\n",
      "IE Supervisor                      38599\n",
      "Surface Maintenance Advisor         7157\n",
      "dtype: int64\n",
      "\n",
      "TradeGroup\n",
      "Mechanical    375261\n",
      "Electric       82085\n",
      "Admin          23107\n",
      "Other           3064\n",
      "dtype: int64\n",
      "\n",
      "IsAffectingProduction\n",
      "No     420837\n",
      "Yes     62680\n",
      "dtype: int64\n",
      "\n",
      "Safety\n",
      "N    479010\n",
      "Y      4507\n",
      "dtype: int64\n",
      "\n",
      "WOType\n",
      "JOB     411966\n",
      "XA       40193\n",
      "XL        8042\n",
      "STAT      7969\n",
      "MRC       7178\n",
      "IN        6132\n",
      "AA        2035\n",
      "PL           2\n",
      "dtype: int64\n",
      "\n",
      "Reopened\n",
      "N    477655\n",
      "Y      5862\n",
      "dtype: int64\n",
      "\n",
      "StatusCode\n",
      "C       457949\n",
      "REJ      17464\n",
      "D         3630\n",
      "R         1577\n",
      "SCH       1023\n",
      "SJOB       886\n",
      "SD         283\n",
      "WM         251\n",
      "HC         214\n",
      "Q          116\n",
      "HE          59\n",
      "MOC         48\n",
      "EC           9\n",
      "HR           4\n",
      "REO          2\n",
      "RFMI         2\n",
      "dtype: int64\n",
      "\n",
      "EquipmentType\n",
      "System      218289\n",
      "Position    157710\n",
      "Asset       104346\n",
      "Location      3172\n",
      "dtype: int64\n",
      "\n",
      "Non categorical variables\n",
      "['EquipmentCode', 'WorkOrder', 'CreatedDate', 'AffectedProduction', 'GrossProductionLoss', 'Duration', 'FailureCount']\n"
     ]
    }
   ],
   "source": [
    "columns = job_80_df.columns\n",
    "id_vars = []\n",
    "for column in columns:\n",
    "    uniques = job_80_df[column].unique()\n",
    "    if len(uniques) < 100:\n",
    "        print(job_80_df.groupby([column]).size().sort_values(ascending=False))\n",
    "        print()\n",
    "    else:\n",
    "        id_vars.append(column)\n",
    "print(\"Non categorical variables\", id_vars, sep=\"\\n\")"
   ]
  },
  {
   "cell_type": "markdown",
   "id": "4c9077ff-36a6-4d47-9e30-0a36142a140a",
   "metadata": {},
   "source": [
    "Conversion of string columns to numeric columns"
   ]
  },
  {
   "cell_type": "code",
   "execution_count": 14,
   "id": "2608f37e-8092-4aa4-95e5-77012292dde6",
   "metadata": {
    "ExecuteTime": {
     "start_time": "2023-05-02T18:44:54.934969Z",
     "end_time": "2023-05-02T18:44:58.449435Z"
    }
   },
   "outputs": [
    {
     "name": "stdout",
     "output_type": "stream",
     "text": [
      "Surface Maintenance Supervisor Converted to: 2\n",
      "Production Supervisor Converted to: 0\n",
      "IE Supervisor Converted to: 3\n",
      "Surface Maintenance Advisor Converted to: 1\n",
      "\n",
      "\n",
      "Mechanical Converted to: 0\n",
      "Electric Converted to: 2\n",
      "Admin Converted to: 1\n",
      "Other Converted to: 3\n",
      "\n",
      "\n",
      "IsAffectingProduction\n",
      "No Converted to: 0\n",
      "Yes Converted to: 1\n",
      "\n",
      "\n",
      "Safety\n",
      "N Converted to: 0\n",
      "Y Converted to: 1\n",
      "\n",
      "\n",
      "JOB Converted to: 1\n",
      "XA Converted to: 0\n",
      "XL Converted to: 7\n",
      "STAT Converted to: 4\n",
      "MRC Converted to: 6\n",
      "IN Converted to: 3\n",
      "AA Converted to: 5\n",
      "PL Converted to: 2\n",
      "\n",
      "\n",
      "Reopened\n",
      "N Converted to: 0\n",
      "Y Converted to: 1\n",
      "\n",
      "\n",
      "C Converted to: 7\n",
      "REJ Converted to: 11\n",
      "D Converted to: 1\n",
      "R Converted to: 0\n",
      "SCH Converted to: 4\n",
      "SJOB Converted to: 6\n",
      "SD Converted to: 12\n",
      "WM Converted to: 10\n",
      "HC Converted to: 15\n",
      "Q Converted to: 13\n",
      "HE Converted to: 8\n",
      "MOC Converted to: 14\n",
      "EC Converted to: 3\n",
      "HR Converted to: 5\n",
      "REO Converted to: 2\n",
      "RFMI Converted to: 9\n",
      "\n",
      "\n",
      "System Converted to: 1\n",
      "Position Converted to: 0\n",
      "Asset Converted to: 3\n",
      "Location Converted to: 2\n",
      "\n",
      "\n"
     ]
    }
   ],
   "source": [
    "columns = job_80_df.columns\n",
    "seeds_matrix = []\n",
    "for column in columns:\n",
    "    uniques = job_80_df[column].unique()\n",
    "    if len(uniques) == 2:\n",
    "        keys = job_80_df.groupby([column]).size().sort_values(ascending=False).keys()\n",
    "        job_80_df[column].replace(keys, [0,1], inplace=True)\n",
    "        i = -1\n",
    "        print(column)\n",
    "        for key in keys:\n",
    "            i += 1\n",
    "            print(key, i, sep=\" Converted to: \")\n",
    "        print('\\n')\n",
    "    elif 2 < len(uniques) < 100:\n",
    "        keys = job_80_df.groupby([column]).size().sort_values(ascending=False).keys()\n",
    "        seed = list(range(keys.shape[0]))\n",
    "        np.random.shuffle(seed)\n",
    "        job_80_df[column].replace(keys, seed, inplace=True)\n",
    "        seeds_matrix.append(seed)\n",
    "        for i in range(keys.shape[0]):\n",
    "            print(keys[i], seed[i], sep=\" Converted to: \")\n",
    "        print('\\n')"
   ]
  },
  {
   "cell_type": "code",
   "execution_count": 14,
   "outputs": [],
   "source": [],
   "metadata": {
    "collapsed": false,
    "ExecuteTime": {
     "start_time": "2023-05-02T18:44:58.372691Z",
     "end_time": "2023-05-02T18:44:58.450227Z"
    }
   }
  },
  {
   "cell_type": "code",
   "execution_count": 15,
   "id": "cf168b40-f338-426d-8a08-535e65854d69",
   "metadata": {
    "ExecuteTime": {
     "start_time": "2023-05-02T18:44:58.423499Z",
     "end_time": "2023-05-02T18:44:58.450905Z"
    }
   },
   "outputs": [
    {
     "data": {
      "text/plain": "       EquipmentCode  WorkOrder  SupervisorRole  TradeGroup CreatedDate  \\\n464851           V60  DS3286979               2           1  2006-05-27   \n464852           V60  DS8001035               2           0  2006-06-09   \n464853           V60  DS8013075               2           0  2006-06-13   \n464854           V60  DS8014023               2           0  2006-06-14   \n464855           V60  DS8019382               2           0  2006-06-22   \n\n        IsAffectingProduction  AffectedProduction  GrossProductionLoss  \\\n464851                      0                   0                    0   \n464852                      0                   0               593243   \n464853                      0                   0                    0   \n464854                      0                   0                    0   \n464855                      0                   0                    0   \n\n        Duration  Safety  WOType  Reopened  StatusCode  EquipmentType  \\\n464851        45       0       1         0           7              1   \n464852        10       0       1         0           7              1   \n464853        45       0       1         0           7              1   \n464854         1       0       1         0           7              1   \n464855         1       0       1         0           7              1   \n\n        FailureCount  \n464851          1160  \n464852          1160  \n464853          1160  \n464854          1160  \n464855          1160  ",
      "text/html": "<div>\n<style scoped>\n    .dataframe tbody tr th:only-of-type {\n        vertical-align: middle;\n    }\n\n    .dataframe tbody tr th {\n        vertical-align: top;\n    }\n\n    .dataframe thead th {\n        text-align: right;\n    }\n</style>\n<table border=\"1\" class=\"dataframe\">\n  <thead>\n    <tr style=\"text-align: right;\">\n      <th></th>\n      <th>EquipmentCode</th>\n      <th>WorkOrder</th>\n      <th>SupervisorRole</th>\n      <th>TradeGroup</th>\n      <th>CreatedDate</th>\n      <th>IsAffectingProduction</th>\n      <th>AffectedProduction</th>\n      <th>GrossProductionLoss</th>\n      <th>Duration</th>\n      <th>Safety</th>\n      <th>WOType</th>\n      <th>Reopened</th>\n      <th>StatusCode</th>\n      <th>EquipmentType</th>\n      <th>FailureCount</th>\n    </tr>\n  </thead>\n  <tbody>\n    <tr>\n      <th>464851</th>\n      <td>V60</td>\n      <td>DS3286979</td>\n      <td>2</td>\n      <td>1</td>\n      <td>2006-05-27</td>\n      <td>0</td>\n      <td>0</td>\n      <td>0</td>\n      <td>45</td>\n      <td>0</td>\n      <td>1</td>\n      <td>0</td>\n      <td>7</td>\n      <td>1</td>\n      <td>1160</td>\n    </tr>\n    <tr>\n      <th>464852</th>\n      <td>V60</td>\n      <td>DS8001035</td>\n      <td>2</td>\n      <td>0</td>\n      <td>2006-06-09</td>\n      <td>0</td>\n      <td>0</td>\n      <td>593243</td>\n      <td>10</td>\n      <td>0</td>\n      <td>1</td>\n      <td>0</td>\n      <td>7</td>\n      <td>1</td>\n      <td>1160</td>\n    </tr>\n    <tr>\n      <th>464853</th>\n      <td>V60</td>\n      <td>DS8013075</td>\n      <td>2</td>\n      <td>0</td>\n      <td>2006-06-13</td>\n      <td>0</td>\n      <td>0</td>\n      <td>0</td>\n      <td>45</td>\n      <td>0</td>\n      <td>1</td>\n      <td>0</td>\n      <td>7</td>\n      <td>1</td>\n      <td>1160</td>\n    </tr>\n    <tr>\n      <th>464854</th>\n      <td>V60</td>\n      <td>DS8014023</td>\n      <td>2</td>\n      <td>0</td>\n      <td>2006-06-14</td>\n      <td>0</td>\n      <td>0</td>\n      <td>0</td>\n      <td>1</td>\n      <td>0</td>\n      <td>1</td>\n      <td>0</td>\n      <td>7</td>\n      <td>1</td>\n      <td>1160</td>\n    </tr>\n    <tr>\n      <th>464855</th>\n      <td>V60</td>\n      <td>DS8019382</td>\n      <td>2</td>\n      <td>0</td>\n      <td>2006-06-22</td>\n      <td>0</td>\n      <td>0</td>\n      <td>0</td>\n      <td>1</td>\n      <td>0</td>\n      <td>1</td>\n      <td>0</td>\n      <td>7</td>\n      <td>1</td>\n      <td>1160</td>\n    </tr>\n  </tbody>\n</table>\n</div>"
     },
     "execution_count": 15,
     "metadata": {},
     "output_type": "execute_result"
    }
   ],
   "source": [
    "job_80_df.head()"
   ]
  },
  {
   "cell_type": "markdown",
   "id": "7dac4130-3987-478c-ba94-e62883b58fc8",
   "metadata": {},
   "source": [
    "To determine the time since an equipment had a failure the column \"CreatedDate\" was converted to a date type"
   ]
  },
  {
   "cell_type": "code",
   "execution_count": 16,
   "id": "c2e83e5e-66b0-42e4-b127-06f02165e34a",
   "metadata": {
    "ExecuteTime": {
     "start_time": "2023-05-02T18:44:58.433547Z",
     "end_time": "2023-05-02T18:45:20.263878Z"
    }
   },
   "outputs": [],
   "source": [
    "job_80_df['CreatedDate'] = job_80_df['CreatedDate'].apply(pd.to_datetime)\n",
    "job_80_df = job_80_df.reset_index(drop=True)"
   ]
  },
  {
   "cell_type": "markdown",
   "id": "0d0c743f-2d40-4af8-8c88-8f6ed4180467",
   "metadata": {},
   "source": [
    "Generation of column \"DaysFromLastFailure\", the first entrie of every equipment is NaT since there are not values to compare. Still need to decide what to do with that"
   ]
  },
  {
   "cell_type": "code",
   "execution_count": 17,
   "id": "aa8607e8-2a82-48c0-9c9c-58bb658a35e7",
   "metadata": {
    "ExecuteTime": {
     "start_time": "2023-05-02T18:45:20.278971Z",
     "end_time": "2023-05-02T18:45:20.444000Z"
    }
   },
   "outputs": [],
   "source": [
    "job_80_df = job_80_df.assign(DaysFromLastFailure = job_80_df.groupby('EquipmentCode')['CreatedDate'].diff())"
   ]
  },
  {
   "cell_type": "code",
   "execution_count": 18,
   "id": "6637d549-fcc8-4e4b-830c-a593212e4c73",
   "metadata": {
    "ExecuteTime": {
     "start_time": "2023-05-02T18:45:20.454251Z",
     "end_time": "2023-05-02T18:45:20.459718Z"
    }
   },
   "outputs": [
    {
     "data": {
      "text/plain": "  EquipmentCode  WorkOrder  SupervisorRole  TradeGroup CreatedDate  \\\n0           V60  DS3286979               2           1  2006-05-27   \n1           V60  DS8001035               2           0  2006-06-09   \n2           V60  DS8013075               2           0  2006-06-13   \n3           V60  DS8014023               2           0  2006-06-14   \n4           V60  DS8019382               2           0  2006-06-22   \n\n   IsAffectingProduction  AffectedProduction  GrossProductionLoss  Duration  \\\n0                      0                   0                    0        45   \n1                      0                   0               593243        10   \n2                      0                   0                    0        45   \n3                      0                   0                    0         1   \n4                      0                   0                    0         1   \n\n   Safety  WOType  Reopened  StatusCode  EquipmentType  FailureCount  \\\n0       0       1         0           7              1          1160   \n1       0       1         0           7              1          1160   \n2       0       1         0           7              1          1160   \n3       0       1         0           7              1          1160   \n4       0       1         0           7              1          1160   \n\n  DaysFromLastFailure  \n0                 NaT  \n1             13 days  \n2              4 days  \n3              1 days  \n4              8 days  ",
      "text/html": "<div>\n<style scoped>\n    .dataframe tbody tr th:only-of-type {\n        vertical-align: middle;\n    }\n\n    .dataframe tbody tr th {\n        vertical-align: top;\n    }\n\n    .dataframe thead th {\n        text-align: right;\n    }\n</style>\n<table border=\"1\" class=\"dataframe\">\n  <thead>\n    <tr style=\"text-align: right;\">\n      <th></th>\n      <th>EquipmentCode</th>\n      <th>WorkOrder</th>\n      <th>SupervisorRole</th>\n      <th>TradeGroup</th>\n      <th>CreatedDate</th>\n      <th>IsAffectingProduction</th>\n      <th>AffectedProduction</th>\n      <th>GrossProductionLoss</th>\n      <th>Duration</th>\n      <th>Safety</th>\n      <th>WOType</th>\n      <th>Reopened</th>\n      <th>StatusCode</th>\n      <th>EquipmentType</th>\n      <th>FailureCount</th>\n      <th>DaysFromLastFailure</th>\n    </tr>\n  </thead>\n  <tbody>\n    <tr>\n      <th>0</th>\n      <td>V60</td>\n      <td>DS3286979</td>\n      <td>2</td>\n      <td>1</td>\n      <td>2006-05-27</td>\n      <td>0</td>\n      <td>0</td>\n      <td>0</td>\n      <td>45</td>\n      <td>0</td>\n      <td>1</td>\n      <td>0</td>\n      <td>7</td>\n      <td>1</td>\n      <td>1160</td>\n      <td>NaT</td>\n    </tr>\n    <tr>\n      <th>1</th>\n      <td>V60</td>\n      <td>DS8001035</td>\n      <td>2</td>\n      <td>0</td>\n      <td>2006-06-09</td>\n      <td>0</td>\n      <td>0</td>\n      <td>593243</td>\n      <td>10</td>\n      <td>0</td>\n      <td>1</td>\n      <td>0</td>\n      <td>7</td>\n      <td>1</td>\n      <td>1160</td>\n      <td>13 days</td>\n    </tr>\n    <tr>\n      <th>2</th>\n      <td>V60</td>\n      <td>DS8013075</td>\n      <td>2</td>\n      <td>0</td>\n      <td>2006-06-13</td>\n      <td>0</td>\n      <td>0</td>\n      <td>0</td>\n      <td>45</td>\n      <td>0</td>\n      <td>1</td>\n      <td>0</td>\n      <td>7</td>\n      <td>1</td>\n      <td>1160</td>\n      <td>4 days</td>\n    </tr>\n    <tr>\n      <th>3</th>\n      <td>V60</td>\n      <td>DS8014023</td>\n      <td>2</td>\n      <td>0</td>\n      <td>2006-06-14</td>\n      <td>0</td>\n      <td>0</td>\n      <td>0</td>\n      <td>1</td>\n      <td>0</td>\n      <td>1</td>\n      <td>0</td>\n      <td>7</td>\n      <td>1</td>\n      <td>1160</td>\n      <td>1 days</td>\n    </tr>\n    <tr>\n      <th>4</th>\n      <td>V60</td>\n      <td>DS8019382</td>\n      <td>2</td>\n      <td>0</td>\n      <td>2006-06-22</td>\n      <td>0</td>\n      <td>0</td>\n      <td>0</td>\n      <td>1</td>\n      <td>0</td>\n      <td>1</td>\n      <td>0</td>\n      <td>7</td>\n      <td>1</td>\n      <td>1160</td>\n      <td>8 days</td>\n    </tr>\n  </tbody>\n</table>\n</div>"
     },
     "execution_count": 18,
     "metadata": {},
     "output_type": "execute_result"
    }
   ],
   "source": [
    "job_80_df.head()"
   ]
  },
  {
   "cell_type": "markdown",
   "id": "c7e220af-171b-4e7b-9818-d08c1697ef1e",
   "metadata": {},
   "source": [
    "Sort the dataset by \"EquipmentCode\" and \"CreatedDate\"\n"
   ]
  },
  {
   "cell_type": "code",
   "execution_count": 19,
   "id": "9d344cc4-0287-4664-94ac-318a6fd7733d",
   "metadata": {
    "ExecuteTime": {
     "start_time": "2023-05-02T18:45:20.480997Z",
     "end_time": "2023-05-02T18:45:20.825722Z"
    }
   },
   "outputs": [
    {
     "name": "stdout",
     "output_type": "stream",
     "text": [
      "(483517, 16)\n"
     ]
    },
    {
     "data": {
      "text/plain": "  EquipmentCode   WorkOrder  SupervisorRole  TradeGroup CreatedDate  \\\n0     ZOROSAKWP  DS17161038               2           3  2016-10-13   \n1     ZOROSAKWP  DS17282768               0           0  2017-01-11   \n2     ZOROSAKWP  DS17668787               0           0  2017-09-21   \n3     ZOROSAKWP  DS17836166               0           0  2018-01-08   \n4     ZOROSAKWP  DS17974621               0           0  2018-04-05   \n\n   IsAffectingProduction  AffectedProduction  GrossProductionLoss  Duration  \\\n0                      0                   0                    0         1   \n1                      0                   0                    0         1   \n2                      0                   0                    0         1   \n3                      1                 158                  158         1   \n4                      0                   0                    0         1   \n\n   Safety  WOType  Reopened  StatusCode  EquipmentType  FailureCount  \\\n0       0       1         0           7              0             5   \n1       0       1         0           7              0             5   \n2       0       1         0           7              0             5   \n3       0       1         0           7              0             5   \n4       0       1         0           1              0             5   \n\n  DaysFromLastFailure  \n0                 NaT  \n1             90 days  \n2            253 days  \n3            109 days  \n4             87 days  ",
      "text/html": "<div>\n<style scoped>\n    .dataframe tbody tr th:only-of-type {\n        vertical-align: middle;\n    }\n\n    .dataframe tbody tr th {\n        vertical-align: top;\n    }\n\n    .dataframe thead th {\n        text-align: right;\n    }\n</style>\n<table border=\"1\" class=\"dataframe\">\n  <thead>\n    <tr style=\"text-align: right;\">\n      <th></th>\n      <th>EquipmentCode</th>\n      <th>WorkOrder</th>\n      <th>SupervisorRole</th>\n      <th>TradeGroup</th>\n      <th>CreatedDate</th>\n      <th>IsAffectingProduction</th>\n      <th>AffectedProduction</th>\n      <th>GrossProductionLoss</th>\n      <th>Duration</th>\n      <th>Safety</th>\n      <th>WOType</th>\n      <th>Reopened</th>\n      <th>StatusCode</th>\n      <th>EquipmentType</th>\n      <th>FailureCount</th>\n      <th>DaysFromLastFailure</th>\n    </tr>\n  </thead>\n  <tbody>\n    <tr>\n      <th>0</th>\n      <td>ZOROSAKWP</td>\n      <td>DS17161038</td>\n      <td>2</td>\n      <td>3</td>\n      <td>2016-10-13</td>\n      <td>0</td>\n      <td>0</td>\n      <td>0</td>\n      <td>1</td>\n      <td>0</td>\n      <td>1</td>\n      <td>0</td>\n      <td>7</td>\n      <td>0</td>\n      <td>5</td>\n      <td>NaT</td>\n    </tr>\n    <tr>\n      <th>1</th>\n      <td>ZOROSAKWP</td>\n      <td>DS17282768</td>\n      <td>0</td>\n      <td>0</td>\n      <td>2017-01-11</td>\n      <td>0</td>\n      <td>0</td>\n      <td>0</td>\n      <td>1</td>\n      <td>0</td>\n      <td>1</td>\n      <td>0</td>\n      <td>7</td>\n      <td>0</td>\n      <td>5</td>\n      <td>90 days</td>\n    </tr>\n    <tr>\n      <th>2</th>\n      <td>ZOROSAKWP</td>\n      <td>DS17668787</td>\n      <td>0</td>\n      <td>0</td>\n      <td>2017-09-21</td>\n      <td>0</td>\n      <td>0</td>\n      <td>0</td>\n      <td>1</td>\n      <td>0</td>\n      <td>1</td>\n      <td>0</td>\n      <td>7</td>\n      <td>0</td>\n      <td>5</td>\n      <td>253 days</td>\n    </tr>\n    <tr>\n      <th>3</th>\n      <td>ZOROSAKWP</td>\n      <td>DS17836166</td>\n      <td>0</td>\n      <td>0</td>\n      <td>2018-01-08</td>\n      <td>1</td>\n      <td>158</td>\n      <td>158</td>\n      <td>1</td>\n      <td>0</td>\n      <td>1</td>\n      <td>0</td>\n      <td>7</td>\n      <td>0</td>\n      <td>5</td>\n      <td>109 days</td>\n    </tr>\n    <tr>\n      <th>4</th>\n      <td>ZOROSAKWP</td>\n      <td>DS17974621</td>\n      <td>0</td>\n      <td>0</td>\n      <td>2018-04-05</td>\n      <td>0</td>\n      <td>0</td>\n      <td>0</td>\n      <td>1</td>\n      <td>0</td>\n      <td>1</td>\n      <td>0</td>\n      <td>1</td>\n      <td>0</td>\n      <td>5</td>\n      <td>87 days</td>\n    </tr>\n  </tbody>\n</table>\n</div>"
     },
     "execution_count": 19,
     "metadata": {},
     "output_type": "execute_result"
    }
   ],
   "source": [
    "job_80_df_sorted = job_80_df.sort_values(['EquipmentCode','CreatedDate'],ascending=[False, True])\n",
    "print(job_80_df.shape)\n",
    "job_80_df_sorted = job_80_df_sorted.reset_index(drop=True)\n",
    "job_80_df_sorted.head()\n",
    "# job_80_df_sorted[job_80_df_sorted[\"EquipmentCode\"] == \"LH-PLT-3C-FSG-P11A\" ]\n",
    "# pd.set_option('display.max_rows', 100)\n",
    "# job_80_df_sorted.tail(100)"
   ]
  },
  {
   "cell_type": "markdown",
   "id": "e9bc3b51-76db-4105-ab6a-ce56389be8e1",
   "metadata": {},
   "source": [
    "# Second Sprint"
   ]
  },
  {
   "cell_type": "code",
   "execution_count": 20,
   "id": "67fe9f6f-2c06-419f-8122-badf95e96ad9",
   "metadata": {
    "ExecuteTime": {
     "start_time": "2023-05-02T18:45:20.826481Z",
     "end_time": "2023-05-02T18:45:20.828818Z"
    }
   },
   "outputs": [],
   "source": [
    "job_df_clean = job_80_df_sorted"
   ]
  },
  {
   "cell_type": "code",
   "execution_count": 21,
   "id": "ae8650a4-cb8d-41f0-a583-aa4b5d8adbb0",
   "metadata": {
    "ExecuteTime": {
     "start_time": "2023-05-02T18:45:20.834635Z",
     "end_time": "2023-05-02T18:45:20.881580Z"
    }
   },
   "outputs": [],
   "source": [
    "# Transform date to day of the year to get seasonality\n",
    "job_df_clean['DayOfYear'] = job_df_clean['CreatedDate'].dt.dayofyear"
   ]
  },
  {
   "cell_type": "code",
   "execution_count": 22,
   "id": "ed4ebaf3-9091-42f1-a890-dfda928c7c7a",
   "metadata": {
    "ExecuteTime": {
     "start_time": "2023-05-02T18:45:20.872156Z",
     "end_time": "2023-05-02T18:45:38.986704Z"
    }
   },
   "outputs": [],
   "source": [
    "# Filling NaT with the mean of it's id \n",
    "grouped = job_df_clean.groupby('EquipmentCode')['DaysFromLastFailure'].transform(lambda x: np.mean(x.dropna()))\n",
    "job_df_clean['DaysFromLastFailure'] = job_df_clean['DaysFromLastFailure'].fillna(grouped)"
   ]
  },
  {
   "cell_type": "code",
   "execution_count": 23,
   "id": "ee8282ce-b059-451d-996d-cfe2f2252f18",
   "metadata": {
    "ExecuteTime": {
     "start_time": "2023-05-02T18:45:39.062953Z",
     "end_time": "2023-05-02T18:45:39.172614Z"
    }
   },
   "outputs": [],
   "source": [
    "# Encode Equipment Code\n",
    "le = LabelEncoder()\n",
    "job_df_clean['equipment_model_id_encoded'] = le.fit_transform(job_df_clean['EquipmentCode'])"
   ]
  },
  {
   "cell_type": "code",
   "execution_count": 24,
   "id": "8f18617d-eb66-4a7e-b47e-8e6cbbc2847b",
   "metadata": {
    "ExecuteTime": {
     "start_time": "2023-05-02T18:45:39.174855Z",
     "end_time": "2023-05-02T18:45:39.184216Z"
    }
   },
   "outputs": [],
   "source": [
    "# Transform Date to Int\n",
    "job_df_clean['DaysFromLastFailure_int'] = job_df_clean['DaysFromLastFailure'].dt.days.astype('int32')"
   ]
  },
  {
   "cell_type": "code",
   "execution_count": 25,
   "id": "3733f1a4-df3b-43f6-a65b-4a1683108e90",
   "metadata": {
    "ExecuteTime": {
     "start_time": "2023-05-02T18:45:39.255314Z",
     "end_time": "2023-05-02T18:45:39.257260Z"
    }
   },
   "outputs": [],
   "source": [
    "# Drop useless columns\n",
    "job_df_clean = job_df_clean.drop(columns=['WorkOrder', 'CreatedDate', 'EquipmentCode', 'DaysFromLastFailure' ])"
   ]
  },
  {
   "cell_type": "code",
   "execution_count": 26,
   "id": "b5911bae-5609-4847-9eea-098df019c24f",
   "metadata": {
    "ExecuteTime": {
     "start_time": "2023-05-02T18:45:39.261868Z",
     "end_time": "2023-05-02T18:45:39.264906Z"
    }
   },
   "outputs": [
    {
     "data": {
      "text/plain": "   SupervisorRole  TradeGroup  IsAffectingProduction  AffectedProduction  \\\n0               2           3                      0                   0   \n1               0           0                      0                   0   \n2               0           0                      0                   0   \n3               0           0                      1                 158   \n4               0           0                      0                   0   \n\n   GrossProductionLoss  Duration  Safety  WOType  Reopened  StatusCode  \\\n0                    0         1       0       1         0           7   \n1                    0         1       0       1         0           7   \n2                    0         1       0       1         0           7   \n3                  158         1       0       1         0           7   \n4                    0         1       0       1         0           1   \n\n   EquipmentType  FailureCount  DayOfYear  equipment_model_id_encoded  \\\n0              0             5        287                       73273   \n1              0             5         11                       73273   \n2              0             5        264                       73273   \n3              0             5          8                       73273   \n4              0             5         95                       73273   \n\n   DaysFromLastFailure_int  \n0                      134  \n1                       90  \n2                      253  \n3                      109  \n4                       87  ",
      "text/html": "<div>\n<style scoped>\n    .dataframe tbody tr th:only-of-type {\n        vertical-align: middle;\n    }\n\n    .dataframe tbody tr th {\n        vertical-align: top;\n    }\n\n    .dataframe thead th {\n        text-align: right;\n    }\n</style>\n<table border=\"1\" class=\"dataframe\">\n  <thead>\n    <tr style=\"text-align: right;\">\n      <th></th>\n      <th>SupervisorRole</th>\n      <th>TradeGroup</th>\n      <th>IsAffectingProduction</th>\n      <th>AffectedProduction</th>\n      <th>GrossProductionLoss</th>\n      <th>Duration</th>\n      <th>Safety</th>\n      <th>WOType</th>\n      <th>Reopened</th>\n      <th>StatusCode</th>\n      <th>EquipmentType</th>\n      <th>FailureCount</th>\n      <th>DayOfYear</th>\n      <th>equipment_model_id_encoded</th>\n      <th>DaysFromLastFailure_int</th>\n    </tr>\n  </thead>\n  <tbody>\n    <tr>\n      <th>0</th>\n      <td>2</td>\n      <td>3</td>\n      <td>0</td>\n      <td>0</td>\n      <td>0</td>\n      <td>1</td>\n      <td>0</td>\n      <td>1</td>\n      <td>0</td>\n      <td>7</td>\n      <td>0</td>\n      <td>5</td>\n      <td>287</td>\n      <td>73273</td>\n      <td>134</td>\n    </tr>\n    <tr>\n      <th>1</th>\n      <td>0</td>\n      <td>0</td>\n      <td>0</td>\n      <td>0</td>\n      <td>0</td>\n      <td>1</td>\n      <td>0</td>\n      <td>1</td>\n      <td>0</td>\n      <td>7</td>\n      <td>0</td>\n      <td>5</td>\n      <td>11</td>\n      <td>73273</td>\n      <td>90</td>\n    </tr>\n    <tr>\n      <th>2</th>\n      <td>0</td>\n      <td>0</td>\n      <td>0</td>\n      <td>0</td>\n      <td>0</td>\n      <td>1</td>\n      <td>0</td>\n      <td>1</td>\n      <td>0</td>\n      <td>7</td>\n      <td>0</td>\n      <td>5</td>\n      <td>264</td>\n      <td>73273</td>\n      <td>253</td>\n    </tr>\n    <tr>\n      <th>3</th>\n      <td>0</td>\n      <td>0</td>\n      <td>1</td>\n      <td>158</td>\n      <td>158</td>\n      <td>1</td>\n      <td>0</td>\n      <td>1</td>\n      <td>0</td>\n      <td>7</td>\n      <td>0</td>\n      <td>5</td>\n      <td>8</td>\n      <td>73273</td>\n      <td>109</td>\n    </tr>\n    <tr>\n      <th>4</th>\n      <td>0</td>\n      <td>0</td>\n      <td>0</td>\n      <td>0</td>\n      <td>0</td>\n      <td>1</td>\n      <td>0</td>\n      <td>1</td>\n      <td>0</td>\n      <td>1</td>\n      <td>0</td>\n      <td>5</td>\n      <td>95</td>\n      <td>73273</td>\n      <td>87</td>\n    </tr>\n  </tbody>\n</table>\n</div>"
     },
     "execution_count": 26,
     "metadata": {},
     "output_type": "execute_result"
    }
   ],
   "source": [
    "job_df_clean.head()"
   ]
  },
  {
   "cell_type": "code",
   "execution_count": 27,
   "id": "fede7dea-c27b-4686-aaa9-909b58d7e510",
   "metadata": {
    "ExecuteTime": {
     "start_time": "2023-05-02T18:45:39.272124Z",
     "end_time": "2023-05-02T18:45:39.408589Z"
    }
   },
   "outputs": [
    {
     "data": {
      "text/plain": "                         0.25    0.5     0.9    0.95    0.99    0.995  \\\nAffectedProduction        0.0    0.0     4.0    14.0    75.0   150.00   \nGrossProductionLoss       0.0    0.0     0.0     0.0   100.0   300.00   \nDuration                  1.0    1.0     7.0     7.0    93.0    93.00   \nDaysFromLastFailure_int  24.0  127.0  1171.0  1936.0  3565.0  3916.42   \n\n                              0.999        max         mean  min  \nAffectedProduction          940.968  318455302   671.439087    0  \nGrossProductionLoss      594062.484     595336  1436.399883    0  \nDuration                    259.484     687389     9.072405    1  \nDaysFromLastFailure_int    4216.000       5081   410.142711    1  ",
      "text/html": "<div>\n<style scoped>\n    .dataframe tbody tr th:only-of-type {\n        vertical-align: middle;\n    }\n\n    .dataframe tbody tr th {\n        vertical-align: top;\n    }\n\n    .dataframe thead th {\n        text-align: right;\n    }\n</style>\n<table border=\"1\" class=\"dataframe\">\n  <thead>\n    <tr style=\"text-align: right;\">\n      <th></th>\n      <th>0.25</th>\n      <th>0.5</th>\n      <th>0.9</th>\n      <th>0.95</th>\n      <th>0.99</th>\n      <th>0.995</th>\n      <th>0.999</th>\n      <th>max</th>\n      <th>mean</th>\n      <th>min</th>\n    </tr>\n  </thead>\n  <tbody>\n    <tr>\n      <th>AffectedProduction</th>\n      <td>0.0</td>\n      <td>0.0</td>\n      <td>4.0</td>\n      <td>14.0</td>\n      <td>75.0</td>\n      <td>150.00</td>\n      <td>940.968</td>\n      <td>318455302</td>\n      <td>671.439087</td>\n      <td>0</td>\n    </tr>\n    <tr>\n      <th>GrossProductionLoss</th>\n      <td>0.0</td>\n      <td>0.0</td>\n      <td>0.0</td>\n      <td>0.0</td>\n      <td>100.0</td>\n      <td>300.00</td>\n      <td>594062.484</td>\n      <td>595336</td>\n      <td>1436.399883</td>\n      <td>0</td>\n    </tr>\n    <tr>\n      <th>Duration</th>\n      <td>1.0</td>\n      <td>1.0</td>\n      <td>7.0</td>\n      <td>7.0</td>\n      <td>93.0</td>\n      <td>93.00</td>\n      <td>259.484</td>\n      <td>687389</td>\n      <td>9.072405</td>\n      <td>1</td>\n    </tr>\n    <tr>\n      <th>DaysFromLastFailure_int</th>\n      <td>24.0</td>\n      <td>127.0</td>\n      <td>1171.0</td>\n      <td>1936.0</td>\n      <td>3565.0</td>\n      <td>3916.42</td>\n      <td>4216.000</td>\n      <td>5081</td>\n      <td>410.142711</td>\n      <td>1</td>\n    </tr>\n  </tbody>\n</table>\n</div>"
     },
     "execution_count": 27,
     "metadata": {},
     "output_type": "execute_result"
    }
   ],
   "source": [
    "# Find Outliers\n",
    "outliers = job_df_clean[['AffectedProduction','GrossProductionLoss','Duration', 'DaysFromLastFailure_int']].quantile([0.25,0.5, 0.9, 0.95, 0.99, 0.995, 0.999]).transpose()\n",
    "outliers['max'] = job_df_clean[['AffectedProduction','GrossProductionLoss','Duration','DaysFromLastFailure_int' ]].max()\n",
    "outliers['mean'] = job_df_clean[['AffectedProduction','GrossProductionLoss','Duration', 'DaysFromLastFailure_int']].mean()\n",
    "outliers['min'] = job_df_clean[['AffectedProduction','GrossProductionLoss','Duration', 'DaysFromLastFailure_int']].min()\n",
    "\n",
    "outliers"
   ]
  },
  {
   "cell_type": "code",
   "execution_count": 28,
   "outputs": [
    {
     "name": "stdout",
     "output_type": "stream",
     "text": [
      "Done\n"
     ]
    }
   ],
   "source": [
    "job_df_clean.to_csv(\"cleanworkorderoutliers.csv\", index=False)\n",
    "print(\"Done\")"
   ],
   "metadata": {
    "collapsed": false,
    "ExecuteTime": {
     "start_time": "2023-05-02T18:45:39.405619Z",
     "end_time": "2023-05-02T18:45:40.792802Z"
    }
   }
  },
  {
   "cell_type": "code",
   "execution_count": 29,
   "id": "b3095f90-21eb-4590-8985-4a17709bd4af",
   "metadata": {
    "ExecuteTime": {
     "start_time": "2023-05-02T18:45:40.793274Z",
     "end_time": "2023-05-02T18:45:40.879576Z"
    }
   },
   "outputs": [],
   "source": [
    "# Kill outliers with winsorize\n",
    "winsorized_data = winsorize(job_df_clean['AffectedProduction'], limits=[0, 1-0.999])\n",
    "job_df_clean['AffectedProduction'] = winsorized_data\n",
    "\n",
    "winsorized_data = winsorize(job_df_clean['GrossProductionLoss'], limits=[0, 1-0.995])\n",
    "job_df_clean['GrossProductionLoss'] = winsorized_data\n",
    "\n",
    "winsorized_data = winsorize(job_df_clean['Duration'], limits=[0, 1-0.999])\n",
    "job_df_clean['Duration'] = winsorized_data"
   ]
  },
  {
   "cell_type": "code",
   "execution_count": 30,
   "id": "1a923bfd-d6ac-472e-92c0-90b854b18588",
   "metadata": {
    "ExecuteTime": {
     "start_time": "2023-05-02T18:45:40.884403Z",
     "end_time": "2023-05-02T18:45:40.935360Z"
    }
   },
   "outputs": [
    {
     "data": {
      "text/plain": "                         0.25    0.5     0.9    0.95    0.99    0.995  \\\nAffectedProduction        0.0    0.0     4.0    14.0    75.0   150.00   \nGrossProductionLoss       0.0    0.0     0.0     0.0   100.0   300.00   \nDuration                  1.0    1.0     7.0     7.0    93.0    93.00   \nDaysFromLastFailure_int  24.0  127.0  1171.0  1936.0  3565.0  3916.42   \n\n                            0.999   max        mean  min  \nAffectedProduction        940.968   942    4.484533    0  \nGrossProductionLoss       300.000   300    3.163808    0  \nDuration                  259.484   260    3.905699    1  \nDaysFromLastFailure_int  4216.000  5081  410.142711    1  ",
      "text/html": "<div>\n<style scoped>\n    .dataframe tbody tr th:only-of-type {\n        vertical-align: middle;\n    }\n\n    .dataframe tbody tr th {\n        vertical-align: top;\n    }\n\n    .dataframe thead th {\n        text-align: right;\n    }\n</style>\n<table border=\"1\" class=\"dataframe\">\n  <thead>\n    <tr style=\"text-align: right;\">\n      <th></th>\n      <th>0.25</th>\n      <th>0.5</th>\n      <th>0.9</th>\n      <th>0.95</th>\n      <th>0.99</th>\n      <th>0.995</th>\n      <th>0.999</th>\n      <th>max</th>\n      <th>mean</th>\n      <th>min</th>\n    </tr>\n  </thead>\n  <tbody>\n    <tr>\n      <th>AffectedProduction</th>\n      <td>0.0</td>\n      <td>0.0</td>\n      <td>4.0</td>\n      <td>14.0</td>\n      <td>75.0</td>\n      <td>150.00</td>\n      <td>940.968</td>\n      <td>942</td>\n      <td>4.484533</td>\n      <td>0</td>\n    </tr>\n    <tr>\n      <th>GrossProductionLoss</th>\n      <td>0.0</td>\n      <td>0.0</td>\n      <td>0.0</td>\n      <td>0.0</td>\n      <td>100.0</td>\n      <td>300.00</td>\n      <td>300.000</td>\n      <td>300</td>\n      <td>3.163808</td>\n      <td>0</td>\n    </tr>\n    <tr>\n      <th>Duration</th>\n      <td>1.0</td>\n      <td>1.0</td>\n      <td>7.0</td>\n      <td>7.0</td>\n      <td>93.0</td>\n      <td>93.00</td>\n      <td>259.484</td>\n      <td>260</td>\n      <td>3.905699</td>\n      <td>1</td>\n    </tr>\n    <tr>\n      <th>DaysFromLastFailure_int</th>\n      <td>24.0</td>\n      <td>127.0</td>\n      <td>1171.0</td>\n      <td>1936.0</td>\n      <td>3565.0</td>\n      <td>3916.42</td>\n      <td>4216.000</td>\n      <td>5081</td>\n      <td>410.142711</td>\n      <td>1</td>\n    </tr>\n  </tbody>\n</table>\n</div>"
     },
     "execution_count": 30,
     "metadata": {},
     "output_type": "execute_result"
    }
   ],
   "source": [
    "outliers = job_df_clean[['AffectedProduction','GrossProductionLoss','Duration', 'DaysFromLastFailure_int']].quantile([0.25,0.5, 0.9, 0.95, 0.99, 0.995, 0.999]).transpose()\n",
    "outliers['max'] = job_df_clean[['AffectedProduction','GrossProductionLoss','Duration','DaysFromLastFailure_int' ]].max()\n",
    "outliers['mean'] = job_df_clean[['AffectedProduction','GrossProductionLoss','Duration', 'DaysFromLastFailure_int']].mean()\n",
    "outliers['min'] = job_df_clean[['AffectedProduction','GrossProductionLoss','Duration', 'DaysFromLastFailure_int']].min()\n",
    "\n",
    "outliers"
   ]
  },
  {
   "cell_type": "code",
   "execution_count": 31,
   "id": "00e5cb72-f17b-4557-b847-204d01751d58",
   "metadata": {
    "ExecuteTime": {
     "start_time": "2023-05-02T18:45:40.936168Z",
     "end_time": "2023-05-02T18:45:42.223503Z"
    }
   },
   "outputs": [
    {
     "name": "stdout",
     "output_type": "stream",
     "text": [
      "Done\n"
     ]
    }
   ],
   "source": [
    "job_df_clean.to_csv(\"cleanworkorder.csv\", index=False)\n",
    "print(\"Done\")"
   ]
  }
 ],
 "metadata": {
  "kernelspec": {
   "display_name": "Python 3 (ipykernel)",
   "language": "python",
   "name": "python3"
  },
  "language_info": {
   "codemirror_mode": {
    "name": "ipython",
    "version": 3
   },
   "file_extension": ".py",
   "mimetype": "text/x-python",
   "name": "python",
   "nbconvert_exporter": "python",
   "pygments_lexer": "ipython3",
   "version": "3.9.7"
  }
 },
 "nbformat": 4,
 "nbformat_minor": 5
}
