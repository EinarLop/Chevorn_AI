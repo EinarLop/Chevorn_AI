{
 "cells": [
  {
   "cell_type": "markdown",
   "id": "94eac6da-09a4-4b53-bad1-ae8a667112b6",
   "metadata": {},
   "source": [
    "# Predictions"
   ]
  },
  {
   "cell_type": "code",
   "execution_count": 1,
   "id": "477800ac-299b-4dca-984c-49bc9870bd6c",
   "metadata": {
    "ExecuteTime": {
     "end_time": "2023-05-02T18:51:52.661551Z",
     "start_time": "2023-05-02T18:51:52.652834Z"
    }
   },
   "outputs": [],
   "source": [
    "import pandas as pd\n",
    "from sklearn.linear_model import LinearRegression\n",
    "from sklearn.tree import DecisionTreeRegressor\n",
    "from sklearn.ensemble import RandomForestRegressor\n",
    "from sklearn.svm import SVR\n",
    "from sklearn.neighbors import KNeighborsRegressor\n",
    "from sklearn.metrics import mean_squared_error\n",
    "from sklearn.neural_network import MLPRegressor\n",
    "from sklearn.linear_model import LogisticRegression\n",
    "from sklearn.metrics import r2_score\n",
    "from sklearn.preprocessing import StandardScaler, MinMaxScaler\n",
    "from sklearn.utils import shuffle\n",
    "from sklearn.metrics import mean_absolute_error\n",
    "from sklearn.model_selection import GridSearchCV, RandomizedSearchCV, train_test_split"
   ]
  },
  {
   "cell_type": "code",
   "execution_count": 2,
   "id": "dca9869e",
   "metadata": {
    "ExecuteTime": {
     "end_time": "2023-05-02T18:51:52.943277Z",
     "start_time": "2023-05-02T18:51:52.663195Z"
    },
    "collapsed": false,
    "jupyter": {
     "outputs_hidden": false
    }
   },
   "outputs": [],
   "source": [
    "worker_order_df = pd.read_csv('cleanworkorder.csv')"
   ]
  },
  {
   "cell_type": "code",
   "execution_count": 3,
   "id": "e778683b-4ee9-491e-b6de-f87be353420b",
   "metadata": {
    "ExecuteTime": {
     "end_time": "2023-05-02T18:51:53.048719Z",
     "start_time": "2023-05-02T18:51:52.958934Z"
    }
   },
   "outputs": [],
   "source": [
    "job_df_predict = worker_order_df\n",
    "job_df_predict = shuffle(job_df_predict, random_state=0)\n",
    "job_df_predict = job_df_predict[0:10000]\n",
    "\n",
    "X_wo_D = job_df_predict.loc[:, job_df_predict.columns != \"Duration\"]\n",
    "X_wo_AP = job_df_predict.loc[:, job_df_predict.columns != \"AffectedProduction\"]\n",
    "X_wo_GPL = job_df_predict.loc[:, job_df_predict.columns != \"GrossProductionLoss\"]\n",
    "X_wo_DLF = job_df_predict.loc[:, job_df_predict.columns != \"DaysFromLastFailure_int\"]\n",
    "\n",
    "Xs = [X_wo_D, X_wo_AP, X_wo_GPL, X_wo_DLF]\n",
    "y = [\"Duration\",\"AffectedProduction\",\"GrossProductionLoss\",\"DaysFromLastFailure_int\"]\n",
    "\n",
    "for i in range(len(Xs)):\n",
    "    # Normalization\n",
    "    curr_norm_scaler = MinMaxScaler().fit(Xs[i])\n",
    "    Xs[i] = curr_norm_scaler.transform(Xs[i])\n",
    "\n",
    "    # Scaling\n",
    "    curr_std_scaler = MinMaxScaler().fit(Xs[i])\n",
    "    Xs[i] = curr_std_scaler.transform(Xs[i])\n",
    "\n",
    "\n",
    "X_D_train, X_D_test, y_D_train, y_D_test = train_test_split(Xs[0], job_df_predict['Duration'], test_size=0.2, random_state=42)\n",
    "X_AP_train, X_AP_test, y_AP_train, y_AP_test = train_test_split(Xs[1], job_df_predict['AffectedProduction'], test_size=0.2, random_state=42)\n",
    "X_GPL_train, X_GPL_test, y_GPL_train, y_GPL_test = train_test_split(Xs[2], job_df_predict['GrossProductionLoss'], test_size=0.2, random_state=42)\n",
    "X_DLF_train, X_DLF_test, y_DLF_train, y_DLF_test = train_test_split(Xs[3], job_df_predict['DaysFromLastFailure_int'], test_size=0.2, random_state=42)\n",
    "\n",
    "splits = [[X_D_train, X_D_test, y_D_train, y_D_test], [X_AP_train, X_AP_test, y_AP_train, y_AP_test], [X_GPL_train, X_GPL_test, y_GPL_train, y_GPL_test], [X_DLF_train, X_DLF_test, y_DLF_train, y_DLF_test]]\n"
   ]
  },
  {
   "cell_type": "code",
   "execution_count": 39,
   "id": "5ff1c043-ca03-4c6c-9564-df9ae199b632",
   "metadata": {
    "ExecuteTime": {
     "end_time": "2023-05-02T18:54:15.874024Z",
     "start_time": "2023-05-02T18:51:53.050326Z"
    }
   },
   "outputs": [
    {
     "name": "stdout",
     "output_type": "stream",
     "text": [
      "Predicting:  Duration\n",
      "\n",
      "Training Logistic Regression\n",
      "MSE: 196.97\n",
      "MAE: 2.737\n",
      "R2: -0.03953565134671955\n",
      "\n",
      "Training Decision Tree Regressor\n",
      "MSE: 135.892\n",
      "MAE: 2.962\n",
      "R2: 0.2828117036461978\n",
      "\n",
      "Training Random Forest Regressor\n",
      "MSE: 106.05943994999998\n",
      "MAE: 2.844455\n",
      "R2: 0.4402570493481671\n",
      "\n",
      "Training Support Vector Regressor\n",
      "MSE: 195.73241546852296\n",
      "MAE: 2.770161181589232\n",
      "R2: -0.033004132628002836\n",
      "\n",
      "Training K-Nearest Neighbors Regressor\n",
      "MSE: 164.17816\n",
      "MAE: 3.2456000000000005\n",
      "R2: 0.1335276920723667\n",
      "\n",
      "\n",
      "\n",
      "\n",
      "Predicting:  AffectedProduction\n",
      "\n",
      "Training Logistic Regression\n",
      "MSE: 1692.4675\n",
      "MAE: 4.2865\n",
      "R2: 0.017781514364049178\n",
      "\n",
      "Training Decision Tree Regressor\n",
      "MSE: 3066.124\n",
      "MAE: 6.633\n",
      "R2: -0.7794159545468637\n",
      "\n",
      "Training Random Forest Regressor\n",
      "MSE: 1677.09968585\n",
      "MAE: 5.089615\n",
      "R2: 0.026700179651239386\n",
      "\n",
      "Training Support Vector Regressor\n",
      "MSE: 1667.30130660712\n",
      "MAE: 4.103675836875183\n",
      "R2: 0.032386639935781614\n",
      "\n",
      "Training K-Nearest Neighbors Regressor\n",
      "MSE: 1775.7131599999998\n",
      "MAE: 5.2902000000000005\n",
      "R2: -0.030529857110419334\n",
      "\n",
      "\n",
      "\n",
      "\n",
      "Predicting:  GrossProductionLoss\n",
      "\n",
      "Training Logistic Regression\n",
      "MSE: 501.704\n",
      "MAE: 2.717\n",
      "R2: -0.014933768533679004\n",
      "\n",
      "Training Decision Tree Regressor\n",
      "MSE: 979.359\n",
      "MAE: 5.276\n",
      "R2: -0.9812170535163671\n",
      "\n",
      "Training Random Forest Regressor\n",
      "MSE: 444.15113795\n",
      "MAE: 4.871854999999999\n",
      "R2: 0.10149413152353681\n",
      "\n",
      "Training Support Vector Regressor\n",
      "MSE: 501.1689932243441\n",
      "MAE: 2.806654940761823\n",
      "R2: -0.013851464141034331\n",
      "\n",
      "Training K-Nearest Neighbors Regressor\n",
      "MSE: 559.98324\n",
      "MAE: 4.783799999999999\n",
      "R2: -0.1328311117489589\n",
      "\n",
      "\n",
      "\n",
      "\n",
      "Predicting:  DaysFromLastFailure_int\n",
      "\n",
      "Training Logistic Regression\n",
      "MSE: 562640.764\n",
      "MAE: 381.006\n",
      "R2: -0.34636030399296214\n",
      "\n",
      "Training Decision Tree Regressor\n",
      "MSE: 623198.243625\n",
      "MAE: 424.80725\n",
      "R2: -0.4912701503704682\n",
      "\n",
      "Training Random Forest Regressor\n",
      "MSE: 290954.43579547334\n",
      "MAE: 324.2319498333334\n",
      "R2: 0.30376622582274493\n",
      "\n",
      "Training Support Vector Regressor\n",
      "MSE: 472865.5739474217\n",
      "MAE: 338.95159335207927\n",
      "R2: -0.13153450411505774\n",
      "\n",
      "Training K-Nearest Neighbors Regressor\n",
      "MSE: 379977.89738\n",
      "MAE: 385.0533\n",
      "R2: 0.09073926000295385\n",
      "\n",
      "\n",
      "\n",
      "\n"
     ]
    }
   ],
   "source": [
    "models = {\n",
    "    \"Logistic Regression\": LogisticRegression(max_iter=10000, random_state=42),\n",
    "    \"Decision Tree Regressor\": DecisionTreeRegressor(random_state=42),\n",
    "    \"Random Forest Regressor\": RandomForestRegressor(random_state=42),\n",
    "    \"Support Vector Regressor\": SVR(),\n",
    "    \"K-Nearest Neighbors Regressor\": KNeighborsRegressor(),\n",
    "}\n",
    "\n",
    "i = 0\n",
    "for split in splits:\n",
    "    print(\"Predicting: \", y[i])\n",
    "    print(\"\")\n",
    "    for name, model in models.items():\n",
    "        print(\"Training\", name)\n",
    "\n",
    "        model.fit(split[0], split[2])\n",
    "\n",
    "        y_pred = model.predict(split[1])\n",
    "        \n",
    "        mse = mean_squared_error(split[3], y_pred)\n",
    "        mae = mean_absolute_error(split[3], y_pred)\n",
    "        r2 = r2_score(split[3], y_pred)\n",
    "        print(\"MSE:\", mse)\n",
    "        # MAE = 0.5 -> This means that on average, the predicted target values are off by 0.5 units from the true target values.\n",
    "        print(\"MAE:\", mae)\n",
    "        print(\"R2:\", r2)\n",
    "        print(\"\")\n",
    "    i+=1\n",
    "    print(\"\")\n",
    "    print(\"\")\n",
    "    print(\"\")"
   ]
  },
  {
   "cell_type": "markdown",
   "id": "f541d1ba-02f1-43d1-9ee8-891a39fba130",
   "metadata": {},
   "source": [
    "### Duration Hyper Parammeter Tuning"
   ]
  },
  {
   "cell_type": "code",
   "execution_count": 86,
   "id": "e20fd6ce",
   "metadata": {
    "ExecuteTime": {
     "end_time": "2023-05-02T19:38:33.609920Z",
     "start_time": "2023-05-02T19:14:51.461699Z"
    },
    "tags": []
   },
   "outputs": [
    {
     "name": "stdout",
     "output_type": "stream",
     "text": [
      "Best hyperparameters:  {'n_estimators': 250, 'min_samples_split': 10, 'min_samples_leaf': 1, 'max_features': 'log2', 'max_depth': 50, 'bootstrap': False}\n",
      "\n",
      "MSE: 111.71731769358604\n",
      "MAE: 2.9210369714285718\n",
      "R2: 0.4103968390348258\n"
     ]
    }
   ],
   "source": [
    "forest_param_grid = {\n",
    "    'n_estimators': [5, 10, 50, 100, 250],\n",
    "    'max_features': [1.0, 'sqrt', 'log2'],\n",
    "    'max_depth': [None, 10, 50, 100],\n",
    "    'min_samples_split': [ 2, 5, 10],\n",
    "    'min_samples_leaf': [0.01, 0.1, 1, 3, 5],\n",
    "    'bootstrap': [True, False]\n",
    "}\n",
    "\n",
    "forest_model = RandomForestRegressor(random_state=42)\n",
    "\n",
    "\n",
    "grid_search =RandomizedSearchCV(forest_model, forest_param_grid, cv=4,  scoring='neg_mean_squared_error', verbose=-1, n_jobs=-1, n_iter=500, random_state=92)\n",
    "\n",
    "\n",
    "grid_search.fit(splits[0][0], splits[0][2])\n",
    "\n",
    "\n",
    "print(\"Best hyperparameters: \", grid_search.best_params_)\n",
    "\n",
    "best_model = grid_search.best_estimator_\n",
    "\n",
    "y_pred = best_model.predict(splits[0][1])\n",
    "\n",
    "mse = mean_squared_error(splits[0][3], y_pred)\n",
    "mae = mean_absolute_error(splits[0][3], y_pred)\n",
    "r2 = r2_score(splits[0][3], y_pred)\n",
    "\n",
    "print(\"\")\n",
    "\n",
    "print(\"MSE:\", mse)\n",
    "print(\"MAE:\", mae)\n",
    "print(\"R2:\", r2)\n",
    "\n"
   ]
  },
  {
   "cell_type": "markdown",
   "id": "de037c7a-aca4-45b0-8def-37f0138baaff",
   "metadata": {
    "tags": []
   },
   "source": [
    "### Affected Production Hyper Parammeter Tuning"
   ]
  },
  {
   "cell_type": "code",
   "execution_count": 22,
   "id": "90a5b1e2-e9f9-4402-9c48-38b5215cf26c",
   "metadata": {},
   "outputs": [
    {
     "name": "stdout",
     "output_type": "stream",
     "text": [
      "Fitting 2 folds for each of 20 candidates, totalling 40 fits\n",
      "Best hyperparameters:  {'kernel': 'poly', 'gamma': 'scale', 'epsilon': 0.001, 'degree': 5, 'C': 0.1}\n",
      "\n",
      "MSE: 1636.5282070856938\n",
      "MAE: 4.008512273918287\n",
      "R2: 0.05024571682219725\n"
     ]
    }
   ],
   "source": [
    "svr_param_grid = {\n",
    "'kernel': ['linear', 'rbf', 'poly', 'sigmoid'],\n",
    "'degree': [3, 5, 7, 10],\n",
    "'C': [0.001, 0.01, 0.1, 1, 10],\n",
    "'epsilon': [0.1, 0.01, 0.001],\n",
    "'gamma': ['scale', 'auto']\n",
    "}\n",
    "\n",
    "support_vector_model = SVR()\n",
    "\n",
    "grid_search =RandomizedSearchCV(support_vector_model, svr_param_grid, cv=2,  scoring='neg_mean_squared_error', verbose=1, n_jobs=-1, n_iter=20, random_state=92)\n",
    "\n",
    "\n",
    "\n",
    "grid_search.fit(splits[1][0], splits[1][2])\n",
    "\n",
    "\n",
    "print(\"Best hyperparameters: \", grid_search.best_params_)\n",
    "\n",
    "best_model = grid_search.best_estimator_\n",
    "\n",
    "y_pred = best_model.predict(splits[1][1])\n",
    "\n",
    "mse = mean_squared_error(splits[1][3], y_pred)\n",
    "mae = mean_absolute_error(splits[1][3], y_pred)\n",
    "r2 = r2_score(splits[1][3], y_pred)\n",
    "\n",
    "print(\"\")\n",
    "\n",
    "print(\"MSE:\", mse)\n",
    "print(\"MAE:\", mae)\n",
    "print(\"R2:\", r2)"
   ]
  },
  {
   "cell_type": "markdown",
   "id": "cd503ea0-3e97-4611-9c2f-86a6a523e272",
   "metadata": {},
   "source": [
    "### Gross Production Loss Hyper Parammeter Tuning"
   ]
  },
  {
   "cell_type": "code",
   "execution_count": 16,
   "id": "88a1f56c-4c10-484f-b0bf-c8a28986f713",
   "metadata": {
    "ExecuteTime": {
     "end_time": "2023-05-02T19:38:33.609920Z",
     "start_time": "2023-05-02T19:14:51.461699Z"
    },
    "tags": []
   },
   "outputs": [
    {
     "name": "stdout",
     "output_type": "stream",
     "text": [
      "Fitting 4 folds for each of 500 candidates, totalling 2000 fits\n",
      "Best hyperparameters:  {'n_estimators': 50, 'min_samples_split': 5, 'min_samples_leaf': 5, 'max_features': 1.0, 'max_depth': None, 'bootstrap': True}\n",
      "\n",
      "MSE: 416.3729526744609\n",
      "MAE: 4.673825409337738\n",
      "R2: 0.15768865710979807\n"
     ]
    }
   ],
   "source": [
    "forest_param_grid = {\n",
    "    'n_estimators': [5, 10, 50, 100, 250],\n",
    "    'max_features': [1.0, 'sqrt', 'log2'],\n",
    "    'max_depth': [None, 10, 50, 100],\n",
    "    'min_samples_split': [ 2, 5, 10],\n",
    "    'min_samples_leaf': [1, 3, 5],\n",
    "    'bootstrap': [True, False]\n",
    "}\n",
    "\n",
    "forest_model = RandomForestRegressor(random_state=42)\n",
    "\n",
    "\n",
    "grid_search =RandomizedSearchCV(forest_model, forest_param_grid, cv=4,  scoring='neg_mean_squared_error', verbose=1, n_jobs=-1, n_iter=500, random_state=92)\n",
    "\n",
    "\n",
    "\n",
    "grid_search.fit(splits[2][0], splits[2][2])\n",
    "\n",
    "\n",
    "print(\"Best hyperparameters: \", grid_search.best_params_)\n",
    "\n",
    "best_model = grid_search.best_estimator_\n",
    "\n",
    "y_pred = best_model.predict(splits[2][1])\n",
    "\n",
    "mse = mean_squared_error(splits[2][3], y_pred)\n",
    "mae = mean_absolute_error(splits[2][3], y_pred)\n",
    "r2 = r2_score(splits[2][3], y_pred)\n",
    "\n",
    "print(\"\")\n",
    "\n",
    "print(\"MSE:\", mse)\n",
    "print(\"MAE:\", mae)\n",
    "print(\"R2:\", r2)\n",
    "\n"
   ]
  },
  {
   "cell_type": "markdown",
   "id": "8b9b021c-50b8-437c-a7da-3631d0ccb7c1",
   "metadata": {},
   "source": [
    "### Days From Last Failure Hyper Parammeter Tuning"
   ]
  },
  {
   "cell_type": "code",
   "execution_count": 19,
   "id": "e7eb46f9-c857-44d6-8841-759caa98b754",
   "metadata": {
    "ExecuteTime": {
     "end_time": "2023-05-02T19:38:33.609920Z",
     "start_time": "2023-05-02T19:14:51.461699Z"
    },
    "tags": []
   },
   "outputs": [
    {
     "name": "stdout",
     "output_type": "stream",
     "text": [
      "Fitting 4 folds for each of 500 candidates, totalling 2000 fits\n",
      "Best hyperparameters:  {'n_estimators': 250, 'min_samples_split': 10, 'min_samples_leaf': 1, 'max_features': 'log2', 'max_depth': 100, 'bootstrap': True}\n",
      "\n",
      "MSE: 270971.19649087446\n",
      "MAE: 318.4206034014656\n",
      "R2: 0.3515847307487474\n"
     ]
    }
   ],
   "source": [
    "forest_param_grid = {\n",
    "    'n_estimators': [5, 10, 50, 100, 250],\n",
    "    'max_features': [1.0, 'sqrt', 'log2'],\n",
    "    'max_depth': [None, 10, 50, 100],\n",
    "    'min_samples_split': [ 2, 5, 10],\n",
    "    'min_samples_leaf': [1, 3, 5],\n",
    "    'bootstrap': [True, False]\n",
    "}\n",
    "\n",
    "forest_model = RandomForestRegressor(random_state=42)\n",
    "\n",
    "\n",
    "grid_search =RandomizedSearchCV(forest_model, forest_param_grid, cv=4,  scoring='neg_mean_squared_error', verbose=1, n_jobs=-1, n_iter=500, random_state=92)\n",
    "\n",
    "\n",
    "\n",
    "grid_search.fit(splits[3][0], splits[3][2])\n",
    "\n",
    "\n",
    "print(\"Best hyperparameters: \", grid_search.best_params_)\n",
    "\n",
    "best_model = grid_search.best_estimator_\n",
    "\n",
    "y_pred = best_model.predict(splits[3][1])\n",
    "\n",
    "mse = mean_squared_error(splits[3][3], y_pred)\n",
    "mae = mean_absolute_error(splits[3][3], y_pred)\n",
    "r2 = r2_score(splits[3][3], y_pred)\n",
    "\n",
    "print(\"\")\n",
    "\n",
    "print(\"MSE:\", mse)\n",
    "print(\"MAE:\", mae)\n",
    "print(\"R2:\", r2)\n",
    "\n"
   ]
  }
 ],
 "metadata": {
  "kernelspec": {
   "display_name": "Python 3 (ipykernel)",
   "language": "python",
   "name": "python3"
  },
  "language_info": {
   "codemirror_mode": {
    "name": "ipython",
    "version": 3
   },
   "file_extension": ".py",
   "mimetype": "text/x-python",
   "name": "python",
   "nbconvert_exporter": "python",
   "pygments_lexer": "ipython3",
   "version": "3.9.7"
  }
 },
 "nbformat": 4,
 "nbformat_minor": 5
}
